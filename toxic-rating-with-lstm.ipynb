{
 "cells": [
  {
   "cell_type": "code",
   "execution_count": 1,
   "id": "02d2f615",
   "metadata": {
    "_cell_guid": "b1076dfc-b9ad-4769-8c92-a6c4dae69d19",
    "_uuid": "8f2839f25d086af736a60e9eeb907d3b93b6e0e5",
    "execution": {
     "iopub.execute_input": "2021-12-20T12:13:13.783562Z",
     "iopub.status.busy": "2021-12-20T12:13:13.782037Z",
     "iopub.status.idle": "2021-12-20T12:13:20.292473Z",
     "shell.execute_reply": "2021-12-20T12:13:20.291766Z",
     "shell.execute_reply.started": "2021-12-20T12:04:12.668594Z"
    },
    "papermill": {
     "duration": 6.537807,
     "end_time": "2021-12-20T12:13:20.292626",
     "exception": false,
     "start_time": "2021-12-20T12:13:13.754819",
     "status": "completed"
    },
    "tags": []
   },
   "outputs": [
    {
     "name": "stdout",
     "output_type": "stream",
     "text": [
      "/kaggle/input/jigsaw-toxic-severity-rating/sample_submission.csv\n",
      "/kaggle/input/jigsaw-toxic-severity-rating/validation_data.csv\n",
      "/kaggle/input/jigsaw-toxic-severity-rating/comments_to_score.csv\n",
      "/kaggle/input/jigsaw-toxic-comment-classification-challenge/sample_submission.csv\n",
      "/kaggle/input/jigsaw-toxic-comment-classification-challenge/test_labels.csv\n",
      "/kaggle/input/jigsaw-toxic-comment-classification-challenge/train.csv\n",
      "/kaggle/input/jigsaw-toxic-comment-classification-challenge/test.csv\n",
      "/kaggle/input/ruddit-jigsaw-dataset/LICENSE\n",
      "/kaggle/input/ruddit-jigsaw-dataset/README.md\n",
      "/kaggle/input/ruddit-jigsaw-dataset/requirements.txt\n",
      "/kaggle/input/ruddit-jigsaw-dataset/ruddit-comment-extraction.ipynb\n",
      "/kaggle/input/ruddit-jigsaw-dataset/Dataset/create_dataset_variants.py\n",
      "/kaggle/input/ruddit-jigsaw-dataset/Dataset/identityterms_group.txt\n",
      "/kaggle/input/ruddit-jigsaw-dataset/Dataset/Ruddit.csv\n",
      "/kaggle/input/ruddit-jigsaw-dataset/Dataset/ReadMe.md\n",
      "/kaggle/input/ruddit-jigsaw-dataset/Dataset/Ruddit_individual_annotations.csv\n",
      "/kaggle/input/ruddit-jigsaw-dataset/Dataset/ruddit_with_text.csv\n",
      "/kaggle/input/ruddit-jigsaw-dataset/Dataset/node_dictionary.npy\n",
      "/kaggle/input/ruddit-jigsaw-dataset/Dataset/post_with_issues.csv\n",
      "/kaggle/input/ruddit-jigsaw-dataset/Dataset/Thread_structure.txt\n",
      "/kaggle/input/ruddit-jigsaw-dataset/Dataset/load_node_dictionary.py\n",
      "/kaggle/input/ruddit-jigsaw-dataset/Dataset/sample_input_file.csv\n",
      "/kaggle/input/ruddit-jigsaw-dataset/Models/BERT.py\n",
      "/kaggle/input/ruddit-jigsaw-dataset/Models/create_splits.py\n",
      "/kaggle/input/ruddit-jigsaw-dataset/Models/README.md\n",
      "/kaggle/input/ruddit-jigsaw-dataset/Models/BiLSTM.py\n",
      "/kaggle/input/ruddit-jigsaw-dataset/Models/info.md\n",
      "/kaggle/input/ruddit-jigsaw-dataset/Models/HateBERT.py\n",
      "/kaggle/input/glove6b/glove.6B.200d.txt\n",
      "/kaggle/input/glove6b/glove.6B.50d.txt\n",
      "/kaggle/input/glove6b/glove.6B.300d.txt\n",
      "/kaggle/input/glove6b/glove.6B.100d.txt\n"
     ]
    }
   ],
   "source": [
    "# This Python 3 environment comes with many helpful analytics libraries installed\n",
    "# It is defined by the kaggle/python Docker image: https://github.com/kaggle/docker-python\n",
    "# For example, here's several helpful packages to load\n",
    "\n",
    "import numpy as np # linear algebra\n",
    "import pandas as pd # data processing, CSV file I/O (e.g. pd.read_csv)\n",
    "import tensorflow as tf\n",
    "import re\n",
    "from tqdm.notebook import tqdm\n",
    "\n",
    "from nltk.corpus import stopwords\n",
    "\n",
    "from tensorflow.keras import regularizers, initializers, optimizers, callbacks\n",
    "from tensorflow.keras.preprocessing.sequence import pad_sequences\n",
    "from tensorflow.keras.preprocessing.text import Tokenizer\n",
    "from keras.utils.np_utils import to_categorical\n",
    "from tensorflow.keras.layers import *\n",
    "from tensorflow.keras.models import Model\n",
    "tqdm.pandas()\n",
    "\n",
    "# Input data files are available in the read-only \"../input/\" directory\n",
    "# For example, running this (by clicking run or pressing Shift+Enter) will list all files under the input directory\n",
    "\n",
    "import os\n",
    "for dirname, _, filenames in os.walk('/kaggle/input'):\n",
    "    for filename in filenames:\n",
    "        print(os.path.join(dirname, filename))\n",
    "\n",
    "# You can write up to 20GB to the current directory (/kaggle/working/) that gets preserved as output when you create a version using \"Save & Run All\" \n",
    "# You can also write temporary files to /kaggle/temp/, but they won't be saved outside of the current session"
   ]
  },
  {
   "cell_type": "code",
   "execution_count": 2,
   "id": "2e3a3fa8",
   "metadata": {
    "execution": {
     "iopub.execute_input": "2021-12-20T12:13:20.345461Z",
     "iopub.status.busy": "2021-12-20T12:13:20.344793Z",
     "iopub.status.idle": "2021-12-20T12:13:20.347472Z",
     "shell.execute_reply": "2021-12-20T12:13:20.346928Z",
     "shell.execute_reply.started": "2021-12-20T11:26:55.370168Z"
    },
    "papermill": {
     "duration": 0.029168,
     "end_time": "2021-12-20T12:13:20.347615",
     "exception": false,
     "start_time": "2021-12-20T12:13:20.318447",
     "status": "completed"
    },
    "tags": []
   },
   "outputs": [],
   "source": [
    "MAX_NB_WORDS = 100000    # max no. of words for tokenizer\n",
    "MAX_SEQUENCE_LENGTH = 200 # max length of each entry (sentence), including padding\n",
    "VALIDATION_SPLIT = 0.2   # data for validation (not used in training)\n",
    "EMBEDDING_DIM = 100      # embedding dimensions for word vectors (word2vec/GloVe)\n",
    "GLOVE_DIR = \"../input/glove6b/glove.6B.\"+str(EMBEDDING_DIM)+\"d.txt\""
   ]
  },
  {
   "cell_type": "code",
   "execution_count": 3,
   "id": "2364a80d",
   "metadata": {
    "execution": {
     "iopub.execute_input": "2021-12-20T12:13:20.396193Z",
     "iopub.status.busy": "2021-12-20T12:13:20.395648Z",
     "iopub.status.idle": "2021-12-20T12:13:23.551931Z",
     "shell.execute_reply": "2021-12-20T12:13:23.551457Z"
    },
    "papermill": {
     "duration": 3.182117,
     "end_time": "2021-12-20T12:13:23.552061",
     "exception": false,
     "start_time": "2021-12-20T12:13:20.369944",
     "status": "completed"
    },
    "tags": []
   },
   "outputs": [],
   "source": [
    "train = pd.read_csv('../input/jigsaw-toxic-comment-classification-challenge/train.csv')\n",
    "test = pd.read_csv('../input/jigsaw-toxic-comment-classification-challenge/test.csv')"
   ]
  },
  {
   "cell_type": "code",
   "execution_count": 4,
   "id": "d2c9599d",
   "metadata": {
    "execution": {
     "iopub.execute_input": "2021-12-20T12:13:23.619647Z",
     "iopub.status.busy": "2021-12-20T12:13:23.618764Z",
     "iopub.status.idle": "2021-12-20T12:15:15.672554Z",
     "shell.execute_reply": "2021-12-20T12:15:15.672958Z",
     "shell.execute_reply.started": "2021-12-20T11:59:01.850875Z"
    },
    "papermill": {
     "duration": 112.098254,
     "end_time": "2021-12-20T12:15:15.673112",
     "exception": false,
     "start_time": "2021-12-20T12:13:23.574858",
     "status": "completed"
    },
    "tags": []
   },
   "outputs": [
    {
     "name": "stderr",
     "output_type": "stream",
     "text": [
      "/opt/conda/lib/python3.7/site-packages/ipykernel_launcher.py:46: FutureWarning: The default value of regex will change from True to False in a future version.\n",
      "/opt/conda/lib/python3.7/site-packages/ipykernel_launcher.py:50: FutureWarning: The default value of regex will change from True to False in a future version.\n",
      "/opt/conda/lib/python3.7/site-packages/ipykernel_launcher.py:51: FutureWarning: The default value of regex will change from True to False in a future version.\n",
      "/opt/conda/lib/python3.7/site-packages/ipykernel_launcher.py:52: FutureWarning: The default value of regex will change from True to False in a future version.\n",
      "/opt/conda/lib/python3.7/site-packages/ipykernel_launcher.py:53: FutureWarning: The default value of regex will change from True to False in a future version.\n",
      "/opt/conda/lib/python3.7/site-packages/ipykernel_launcher.py:54: FutureWarning: The default value of regex will change from True to False in a future version.\n",
      "/opt/conda/lib/python3.7/site-packages/ipykernel_launcher.py:58: FutureWarning: The default value of regex will change from True to False in a future version.\n",
      "/opt/conda/lib/python3.7/site-packages/ipykernel_launcher.py:60: FutureWarning: The default value of regex will change from True to False in a future version.\n",
      "/opt/conda/lib/python3.7/site-packages/ipykernel_launcher.py:62: FutureWarning: The default value of regex will change from True to False in a future version.\n",
      "/opt/conda/lib/python3.7/site-packages/ipykernel_launcher.py:64: FutureWarning: The default value of regex will change from True to False in a future version.\n",
      "/opt/conda/lib/python3.7/site-packages/ipykernel_launcher.py:65: FutureWarning: The default value of regex will change from True to False in a future version.\n",
      "/opt/conda/lib/python3.7/site-packages/ipykernel_launcher.py:66: FutureWarning: The default value of regex will change from True to False in a future version.\n",
      "/opt/conda/lib/python3.7/site-packages/ipykernel_launcher.py:67: FutureWarning: The default value of regex will change from True to False in a future version.\n"
     ]
    },
    {
     "data": {
      "application/vnd.jupyter.widget-view+json": {
       "model_id": "b82e602a72f64203989faf0aaed61abf",
       "version_major": 2,
       "version_minor": 0
      },
      "text/plain": [
       "  0%|          | 0/159571 [00:00<?, ?it/s]"
      ]
     },
     "metadata": {},
     "output_type": "display_data"
    }
   ],
   "source": [
    "from bs4 import BeautifulSoup\n",
    "from nltk.stem import WordNetLemmatizer\n",
    "from nltk.corpus import stopwords\n",
    "\n",
    "\n",
    "def text_cleaning(text):\n",
    "    '''\n",
    "    Cleans text into a basic form for NLP. Operations include the following:-\n",
    "    1. Remove special charecters like &, #, etc\n",
    "    2. Removes extra spaces\n",
    "    3. Removes embedded URL links\n",
    "    4. Removes HTML tags\n",
    "    5. Removes emojis\n",
    "    \n",
    "    text - Text piece to be cleaned.\n",
    "    '''\n",
    "    template = re.compile(r'https?://\\S+|www\\.\\S+') #Removes website links\n",
    "    text = template.sub(r'', text)\n",
    "    \n",
    "    soup = BeautifulSoup(text, 'lxml') #Removes HTML tags\n",
    "    only_text = soup.get_text()\n",
    "    text = only_text\n",
    "    \n",
    "    emoji_pattern = re.compile(\"[\"\n",
    "                               u\"\\U0001F600-\\U0001F64F\"  # emoticons\n",
    "                               u\"\\U0001F300-\\U0001F5FF\"  # symbols & pictographs\n",
    "                               u\"\\U0001F680-\\U0001F6FF\"  # transport & map symbols\n",
    "                               u\"\\U0001F1E0-\\U0001F1FF\"  # flags (iOS)\n",
    "                               u\"\\U00002702-\\U000027B0\"\n",
    "                               u\"\\U000024C2-\\U0001F251\"\n",
    "                               \"]+\", flags=re.UNICODE)\n",
    "    text = emoji_pattern.sub(r'', text)\n",
    "    \n",
    "    text = re.sub(r\"[^a-zA-Z\\d]\", \" \", text) #Remove special Charecters\n",
    "    text = re.sub(' +', ' ', text) #Remove Extra Spaces\n",
    "    text = text.strip() # remove spaces at the beginning and at the end of string\n",
    "\n",
    "    return text\n",
    "\n",
    "\n",
    "\n",
    "\n",
    "def clean(data, col):\n",
    "    \n",
    "    data[col] = data[col].str.replace(r\"what's\", \"what is \")    \n",
    "    data[col] = data[col].str.replace(r\"\\'ve\", \" have \")\n",
    "    data[col] = data[col].str.replace(r\"can't\", \"cannot \")\n",
    "    data[col] = data[col].str.replace(r\"n't\", \" not \")\n",
    "    data[col] = data[col].str.replace(r\"i'm\", \"i am \")\n",
    "    data[col] = data[col].str.replace(r\"\\'re\", \" are \")\n",
    "    data[col] = data[col].str.replace(r\"\\'d\", \" would \")\n",
    "    data[col] = data[col].str.replace(r\"\\'ll\", \" will \")\n",
    "    data[col] = data[col].str.replace(r\"\\'scuse\", \" excuse \")\n",
    "    data[col] = data[col].str.replace(r\"\\'s\", \" \")\n",
    "\n",
    "    # Clean some punctutations\n",
    "    data[col] = data[col].str.replace('\\n', ' \\n ')\n",
    "    data[col] = data[col].str.replace(r'([a-zA-Z]+)([/!?.])([a-zA-Z]+)',r'\\1 \\2 \\3')\n",
    "    # Replace repeating characters more than 3 times to length of 3\n",
    "    data[col] = data[col].str.replace(r'([*!?\\'])\\1\\1{2,}',r'\\1\\1\\1')    \n",
    "    # Add space around repeating characters\n",
    "    data[col] = data[col].str.replace(r'([*!?\\']+)',r' \\1 ')    \n",
    "    # patterns with repeating characters \n",
    "    data[col] = data[col].str.replace(r'([a-zA-Z])\\1{2,}\\b',r'\\1\\1')\n",
    "    data[col] = data[col].str.replace(r'([a-zA-Z])\\1\\1{2,}\\B',r'\\1\\1\\1')\n",
    "    data[col] = data[col].str.replace(r'[ ]{2,}',' ').str.strip()   \n",
    "    data[col] = data[col].str.replace(r'[ ]{2,}',' ').str.strip()   \n",
    "    data[col] = data[col].apply(lambda x: ' '.join([word for word in x.split() if word not in (stop)]))\n",
    "    \n",
    "    return data\n",
    "# def clean(data, col):\n",
    "    \n",
    "#     data[col] = data[col].str.replace('https?://\\S+|www\\.\\S+', ' social medium ', regex=True)      \n",
    "        \n",
    "#     data[col] = data[col].str.lower()\n",
    "#     data[col] = data[col].str.replace(\"don't\", \"do not\" , regex=True)\n",
    "#     data[col] = data[col].str.replace(\"i'm\", \"i am\" , regex=True)\n",
    "#     data[col] = data[col].str.replace('\"\"', '\"' , regex=True)\n",
    "#     data[col] = data[col].str.replace(\"it's\", \"it is\" , regex=True)\n",
    "#     data[col] = data[col].str.replace(\"it\\'s\", \"it is\" , regex=True)\n",
    "#     data[col] = data[col].str.replace(\"that's\", \"that is\" , regex=True)\n",
    "    \n",
    "    \n",
    "#     data[col] = data[col].str.replace(\"4\", \"a\" , regex=True) \n",
    "#     data[col] = data[col].str.replace(\"2\", \"l\", regex=True)\n",
    "#     data[col] = data[col].str.replace(\"5\", \"s\", regex=True) \n",
    "#     data[col] = data[col].str.replace(\"1\", \"i\", regex=True) \n",
    "#     data[col] = data[col].str.replace(\"!\", \"i\", regex=True) \n",
    "#     data[col] = data[col].str.replace(\"|\", \"i\", regex=True) \n",
    "#     data[col] = data[col].str.replace(\"0\", \"o\", regex=True) \n",
    "#     data[col] = data[col].str.replace(\"l3\", \"b\", regex=True) \n",
    "#     data[col] = data[col].str.replace(\"7\", \"t\", regex=True) \n",
    "#     data[col] = data[col].str.replace(\"7\", \"+\", regex=True) \n",
    "#     data[col] = data[col].str.replace(\"8\", \"ate\", regex=True) \n",
    "#     data[col] = data[col].str.replace(\"3\", \"e\", regex=True) \n",
    "#     data[col] = data[col].str.replace(\"9\", \"g\", regex=True)\n",
    "#     data[col] = data[col].str.replace(\"6\", \"g\", regex=True)\n",
    "#     data[col] = data[col].str.replace(\"@\", \"a\", regex=True)\n",
    "#     data[col] = data[col].str.replace(\"$\", \"s\", regex=True)\n",
    "#     data[col] = data[col].str.replace(\"#ofc\", \" of fuckin course \", regex=True)\n",
    "#     data[col] = data[col].str.replace(\"fggt\", \" faggot \", regex=True)\n",
    "#     data[col] = data[col].str.replace(\"your\", \" your \", regex=True)\n",
    "#     data[col] = data[col].str.replace(\"self\", \" self \", regex=True)\n",
    "#     data[col] = data[col].str.replace(\"cuntbag\", \" cunt bag \", regex=True)\n",
    "#     data[col] = data[col].str.replace(\"fartchina\", \" fart china \", regex=True)    \n",
    "#     data[col] = data[col].str.replace(\"youi\", \" you \", regex=True)\n",
    "#     data[col] = data[col].str.replace(\"cunti\", \" cunt i \", regex=True)\n",
    "#     data[col] = data[col].str.replace(\"sucki\", \" suck i \", regex=True)\n",
    "#     data[col] = data[col].str.replace(\"pagedelete\", \" page delete \", regex=True)\n",
    "#     data[col] = data[col].str.replace(\"i'm\", \" i am \", regex=True)\n",
    "#     data[col] = data[col].str.replace(\"offuck\", \" of fuck \", regex=True)\n",
    "#     data[col] = data[col].str.replace(\"centraliststupid\", \" central ist stupid \", regex=True)\n",
    "#     data[col] = data[col].str.replace(\"hitleri\", \" hitler i \", regex=True)\n",
    "#     data[col] = data[col].str.replace(\"i've\", \" i have \", regex=True)\n",
    "#     data[col] = data[col].str.replace(\"i'll\", \" sick \", regex=True)\n",
    "#     data[col] = data[col].str.replace(\"fuck\", \" fuck \", regex=True)\n",
    "#     data[col] = data[col].str.replace(\"f u c k\", \" fuck \", regex=True)\n",
    "#     data[col] = data[col].str.replace(\"shit\", \" shit \", regex=True)\n",
    "#     data[col] = data[col].str.replace(\"bunksteve\", \" bunk steve \", regex=True)\n",
    "#     #data[col] = data[col].str.replace('wikipedia', ' social medium ', regex=True)\n",
    "#     data[col] = data[col].str.replace(\"faggot\", \" faggot \", regex=True)\n",
    "#     data[col] = data[col].str.replace(\"delanoy\", \" delanoy \", regex=True)\n",
    "#     data[col] = data[col].str.replace(\"jewish\", \" jewish \", regex=True)\n",
    "#     data[col] = data[col].str.replace(\"sexsex\", \" sex \", regex=True)\n",
    "#     data[col] = data[col].str.replace(\"i'd\", \" i would \", regex=True)\n",
    "#     data[col] = data[col].str.replace(\"'s\", \" is \", regex=True)\n",
    "#     data[col] = data[col].str.replace(\"youbollocks\", \" you bollocks \", regex=True)\n",
    "#     data[col] = data[col].str.replace(\"dick\", \" dick \", regex=True)\n",
    "#     data[col] = data[col].str.replace(\"cuntsi\", \" cuntsi \", regex=True)\n",
    "#     data[col] = data[col].str.replace(\"mothjer\", \" mother \", regex=True)\n",
    "#     data[col] = data[col].str.replace(\"cuntfranks\", \" cunt \", regex=True)\n",
    "#     data[col] = data[col].str.replace(\"ullmann\", \" jewish \", regex=True)\n",
    "#     data[col] = data[col].str.replace(\"mr.\", \" mister \", regex=True)\n",
    "#     data[col] = data[col].str.replace(\"aidsaids\", \" aids \", regex=True)\n",
    "#     data[col] = data[col].str.replace(\"njgw\", \" nigger \", regex=True)\n",
    "#     data[col] = data[col].str.replace(\"wiki\", \" social medium \", regex=True)\n",
    "#     data[col] = data[col].str.replace(\"administrator\", \" admin \", regex=True)\n",
    "#     data[col] = data[col].str.replace(\"gamaliel\", \" jewish \", regex=True)\n",
    "#     data[col] = data[col].str.replace(\"rvv\", \" vanadalism \", regex=True)\n",
    "#     data[col] = data[col].str.replace(\"admins\", \" admin \", regex=True)\n",
    "#     data[col] = data[col].str.replace(\"pensnsnniensnsn\", \" penis \", regex=True)\n",
    "#     data[col] = data[col].str.replace(\"pneis\", \" penis \", regex=True)\n",
    "#     data[col] = data[col].str.replace(\"pennnis\", \" penis \", regex=True)\n",
    "#     data[col] = data[col].str.replace(\"pov.\", \" point of view \", regex=True)\n",
    "#     data[col] = data[col].str.replace(\"vandalising\", \" vandalism \", regex=True)\n",
    "#     data[col] = data[col].str.replace(\"cock\", \" dick \", regex=True)\n",
    "#     data[col] = data[col].str.replace(\"asshole\", \" asshole \", regex=True)\n",
    "#     data[col] = data[col].str.replace(\"youi\", \" you \", regex=True)\n",
    "#     data[col] = data[col].str.replace(\"afd\", \" all fucking day \", regex=True)\n",
    "#     data[col] = data[col].str.replace(\"sockpuppets\", \" sockpuppetry \", regex=True)\n",
    "#     data[col] = data[col].str.replace(\"iiprick\", \" iprick \", regex=True)\n",
    "#     data[col] = data[col].str.replace(\"penisi\", \" penis \", regex=True)\n",
    "#     data[col] = data[col].str.replace(\"warrior\", \" warrior \", regex=True)\n",
    "#     data[col] = data[col].str.replace(\"loil\", \" laughing out insanely loud \", regex=True)\n",
    "#     data[col] = data[col].str.replace(\"vandalise\", \" vanadalism \", regex=True)\n",
    "#     data[col] = data[col].str.replace(\"helli\", \" helli \", regex=True)\n",
    "#     data[col] = data[col].str.replace(\"lunchablesi\", \" lunchablesi \", regex=True)\n",
    "#     data[col] = data[col].str.replace(\"special\", \" special \", regex=True)\n",
    "#     data[col] = data[col].str.replace(\"ilol\", \" i lol \", regex=True)\n",
    "#     data[col] = data[col].str.replace(r'\\b[uU]\\b', 'you', regex=True)\n",
    "#     data[col] = data[col].str.replace(r\"what's\", \"what is \", regex=True)\n",
    "#     data[col] = data[col].str.replace(r\"\\'s\", \" is \", regex=True)\n",
    "#     data[col] = data[col].str.replace(r\"\\'ve\", \" have \", regex=True)\n",
    "#     data[col] = data[col].str.replace(r\"can't\", \"cannot \", regex=True)\n",
    "#     data[col] = data[col].str.replace(r\"n't\", \" not \", regex=True)\n",
    "#     data[col] = data[col].str.replace(r\"i'm\", \"i am \", regex=True)\n",
    "#     data[col] = data[col].str.replace(r\"\\'re\", \" are \", regex=True)\n",
    "#     data[col] = data[col].str.replace(r\"\\'d\", \" would \", regex=True)\n",
    "#     data[col] = data[col].str.replace(r\"\\'ll\", \" will \", regex=True)\n",
    "#     data[col] = data[col].str.replace(r\"\\'scuse\", \" excuse \", regex=True)\n",
    "#     data[col] = data[col].str.replace('\\s+', ' ', regex=True)  # will remove more than one whitespace character\n",
    "# #     text = re.sub(r'\\b([^\\W\\d_]+)(\\s+\\1)+\\b', r'\\1', re.sub(r'\\W+', ' ', text).strip(), flags=re.I)  # remove repeating words coming immediately one after another\n",
    "#     data[col] = data[col].str.replace(r'(.)\\1+', r'\\1\\1', regex=True) # 2 or more characters are replaced by 2 characters\n",
    "# #     text = re.sub(r'((\\b\\w+\\b.{1,2}\\w+\\b)+).+\\1', r'\\1', text, flags = re.I)\n",
    "#     data[col] = data[col].str.replace(\"[:|♣|'|§|♠|*|/|?|=|%|&|-|#|•|~|^|>|<|►|_]\", '', regex=True)\n",
    "    \n",
    "    \n",
    "#     data[col] = data[col].str.replace(r\"what's\", \"what is \", regex=True)    \n",
    "#     data[col] = data[col].str.replace(r\"\\'ve\", \" have \", regex=True)\n",
    "#     data[col] = data[col].str.replace(r\"can't\", \"cannot \", regex=True)\n",
    "#     data[col] = data[col].str.replace(r\"n't\", \" not \", regex=True)\n",
    "#     data[col] = data[col].str.replace(r\"i'm\", \"i am \", regex=True)\n",
    "#     data[col] = data[col].str.replace(r\"\\'re\", \" are \", regex=True)\n",
    "#     data[col] = data[col].str.replace(r\"\\'d\", \" would \", regex=True)\n",
    "#     data[col] = data[col].str.replace(r\"\\'ll\", \" will \", regex=True)\n",
    "#     data[col] = data[col].str.replace(r\"\\'scuse\", \" excuse \", regex=True)\n",
    "#     data[col] = data[col].str.replace(r\"\\'s\", \" \", regex=True)\n",
    "\n",
    "#     # Clean some punctutations\n",
    "#     data[col] = data[col].str.replace('\\n', ' \\n ', regex=True)\n",
    "#     data[col] = data[col].str.replace(r'([a-zA-Z]+)([/!?.])([a-zA-Z]+)',r'\\1 \\2 \\3', regex=True)\n",
    "#     # Replace repeating characters more than 3 times to length of 3\n",
    "#     data[col] = data[col].str.replace(r'([*!?\\'])\\1\\1{2,}',r'\\1\\1\\1', regex=True)    \n",
    "#     # Add space around repeating characters\n",
    "#     data[col] = data[col].str.replace(r'([*!?\\']+)',r' \\1 ', regex=True)    \n",
    "#     # patterns with repeating characters \n",
    "#     data[col] = data[col].str.replace(r'([a-zA-Z])\\1{2,}\\b',r'\\1\\1', regex=True)\n",
    "#     data[col] = data[col].str.replace(r'([a-zA-Z])\\1\\1{2,}\\B',r'\\1\\1\\1')\n",
    "#     data[col] = data[col].str.replace(r'[ ]{2,}',' ', regex=True).str.strip()   \n",
    "#     data[col] = data[col].str.replace(r'[ ]{2,}',' ', regex=True).str.strip()   \n",
    "#     data[col] = data[col].apply(lambda x: ' '.join([word for word in x.split() if word not in (stop)]))\n",
    "    \n",
    "#     return data\n",
    "\n",
    "\n",
    "lemmatizer = WordNetLemmatizer()\n",
    "stop = stopwords.words('english')\n",
    "\n",
    "df_train_new = clean(train, 'comment_text')\n",
    "df_train_new['clean_text'] = df_train_new['comment_text'].progress_apply(text_cleaning)\n",
    "\n",
    "# tqdm.pandas()\n",
    "# df_train_new['clean_text'] = df_train_new['comment_text'].progress_apply(text_cleaning)\n"
   ]
  },
  {
   "cell_type": "code",
   "execution_count": 5,
   "id": "58c6dd88",
   "metadata": {
    "execution": {
     "iopub.execute_input": "2021-12-20T12:15:15.729151Z",
     "iopub.status.busy": "2021-12-20T12:15:15.728389Z",
     "iopub.status.idle": "2021-12-20T12:16:58.702614Z",
     "shell.execute_reply": "2021-12-20T12:16:58.701696Z",
     "shell.execute_reply.started": "2021-12-20T12:00:55.677095Z"
    },
    "papermill": {
     "duration": 103.003831,
     "end_time": "2021-12-20T12:16:58.702771",
     "exception": false,
     "start_time": "2021-12-20T12:15:15.698940",
     "status": "completed"
    },
    "tags": []
   },
   "outputs": [
    {
     "name": "stderr",
     "output_type": "stream",
     "text": [
      "/opt/conda/lib/python3.7/site-packages/ipykernel_launcher.py:46: FutureWarning: The default value of regex will change from True to False in a future version.\n",
      "/opt/conda/lib/python3.7/site-packages/ipykernel_launcher.py:50: FutureWarning: The default value of regex will change from True to False in a future version.\n",
      "/opt/conda/lib/python3.7/site-packages/ipykernel_launcher.py:51: FutureWarning: The default value of regex will change from True to False in a future version.\n",
      "/opt/conda/lib/python3.7/site-packages/ipykernel_launcher.py:52: FutureWarning: The default value of regex will change from True to False in a future version.\n",
      "/opt/conda/lib/python3.7/site-packages/ipykernel_launcher.py:53: FutureWarning: The default value of regex will change from True to False in a future version.\n",
      "/opt/conda/lib/python3.7/site-packages/ipykernel_launcher.py:54: FutureWarning: The default value of regex will change from True to False in a future version.\n",
      "/opt/conda/lib/python3.7/site-packages/ipykernel_launcher.py:58: FutureWarning: The default value of regex will change from True to False in a future version.\n",
      "/opt/conda/lib/python3.7/site-packages/ipykernel_launcher.py:60: FutureWarning: The default value of regex will change from True to False in a future version.\n",
      "/opt/conda/lib/python3.7/site-packages/ipykernel_launcher.py:62: FutureWarning: The default value of regex will change from True to False in a future version.\n",
      "/opt/conda/lib/python3.7/site-packages/ipykernel_launcher.py:64: FutureWarning: The default value of regex will change from True to False in a future version.\n",
      "/opt/conda/lib/python3.7/site-packages/ipykernel_launcher.py:65: FutureWarning: The default value of regex will change from True to False in a future version.\n",
      "/opt/conda/lib/python3.7/site-packages/ipykernel_launcher.py:66: FutureWarning: The default value of regex will change from True to False in a future version.\n",
      "/opt/conda/lib/python3.7/site-packages/ipykernel_launcher.py:67: FutureWarning: The default value of regex will change from True to False in a future version.\n"
     ]
    },
    {
     "data": {
      "application/vnd.jupyter.widget-view+json": {
       "model_id": "11c07a06d9d04bb2a55b4a839802cd7e",
       "version_major": 2,
       "version_minor": 0
      },
      "text/plain": [
       "  0%|          | 0/159571 [00:00<?, ?it/s]"
      ]
     },
     "metadata": {},
     "output_type": "display_data"
    }
   ],
   "source": [
    "\n",
    "lemmatizer = WordNetLemmatizer()\n",
    "stop = stopwords.words('english')\n",
    "\n",
    "# tqdm.pandas()\n",
    "# df_train_new['clean_text'] = df_train_new['comment_text'].progress_apply(text_cleaning)\n",
    "df_train_new = clean(train, 'comment_text')\n",
    "df_train_new['clean_text'] = df_train_new['comment_text'].progress_apply(text_cleaning)\n",
    "\n",
    "texts = df_train_new['clean_text'].values\n",
    "tokenizer = Tokenizer(num_words=MAX_NB_WORDS)\n",
    "tokenizer.fit_on_texts(texts)\n",
    "y = df_train_new[['toxic', 'severe_toxic', 'obscene', 'threat', 'insult', 'identity_hate']].values"
   ]
  },
  {
   "cell_type": "code",
   "execution_count": 6,
   "id": "4d86fcfb",
   "metadata": {
    "execution": {
     "iopub.execute_input": "2021-12-20T12:16:58.788518Z",
     "iopub.status.busy": "2021-12-20T12:16:58.781242Z",
     "iopub.status.idle": "2021-12-20T12:17:05.514316Z",
     "shell.execute_reply": "2021-12-20T12:17:05.514738Z",
     "shell.execute_reply.started": "2021-12-20T12:03:05.228291Z"
    },
    "papermill": {
     "duration": 6.78302,
     "end_time": "2021-12-20T12:17:05.514888",
     "exception": false,
     "start_time": "2021-12-20T12:16:58.731868",
     "status": "completed"
    },
    "tags": []
   },
   "outputs": [
    {
     "name": "stdout",
     "output_type": "stream",
     "text": [
      "Vocabulary size: 181442\n",
      "Shape of data tensor: (159571, 200)\n",
      "Shape of label tensor: (159571, 6)\n"
     ]
    }
   ],
   "source": [
    "sequences = tokenizer.texts_to_sequences(texts)\n",
    "word_index = tokenizer.word_index\n",
    "print('Vocabulary size:', len(word_index))\n",
    "data = pad_sequences(sequences, padding = 'post', maxlen = MAX_SEQUENCE_LENGTH)\n",
    "\n",
    "print('Shape of data tensor:', data.shape)\n",
    "print('Shape of label tensor:', y.shape)"
   ]
  },
  {
   "cell_type": "code",
   "execution_count": 7,
   "id": "7037ad8f",
   "metadata": {
    "execution": {
     "iopub.execute_input": "2021-12-20T12:17:05.583127Z",
     "iopub.status.busy": "2021-12-20T12:17:05.582101Z",
     "iopub.status.idle": "2021-12-20T12:17:05.645145Z",
     "shell.execute_reply": "2021-12-20T12:17:05.645697Z",
     "shell.execute_reply.started": "2021-12-20T12:03:17.813536Z"
    },
    "papermill": {
     "duration": 0.101467,
     "end_time": "2021-12-20T12:17:05.645854",
     "exception": false,
     "start_time": "2021-12-20T12:17:05.544387",
     "status": "completed"
    },
    "tags": []
   },
   "outputs": [],
   "source": [
    "indices = np.arange(data.shape[0])\n",
    "np.random.shuffle(indices)\n",
    "data = data[indices]\n",
    "labels = y[indices]"
   ]
  },
  {
   "cell_type": "code",
   "execution_count": 8,
   "id": "7116895e",
   "metadata": {
    "execution": {
     "iopub.execute_input": "2021-12-20T12:17:05.711244Z",
     "iopub.status.busy": "2021-12-20T12:17:05.710428Z",
     "iopub.status.idle": "2021-12-20T12:17:05.712822Z",
     "shell.execute_reply": "2021-12-20T12:17:05.712427Z",
     "shell.execute_reply.started": "2021-12-20T12:03:25.289245Z"
    },
    "papermill": {
     "duration": 0.036339,
     "end_time": "2021-12-20T12:17:05.712928",
     "exception": false,
     "start_time": "2021-12-20T12:17:05.676589",
     "status": "completed"
    },
    "tags": []
   },
   "outputs": [],
   "source": [
    "num_validation_samples = int(VALIDATION_SPLIT*data.shape[0])\n",
    "x_train = data[: -num_validation_samples]\n",
    "y_train = labels[: -num_validation_samples]\n",
    "x_val = data[-num_validation_samples: ]\n",
    "y_val = labels[-num_validation_samples: ]"
   ]
  },
  {
   "cell_type": "code",
   "execution_count": 9,
   "id": "994a5a1b",
   "metadata": {
    "execution": {
     "iopub.execute_input": "2021-12-20T12:17:05.776410Z",
     "iopub.status.busy": "2021-12-20T12:17:05.775649Z",
     "iopub.status.idle": "2021-12-20T12:17:05.782905Z",
     "shell.execute_reply": "2021-12-20T12:17:05.782496Z",
     "shell.execute_reply.started": "2021-12-20T12:03:35.792592Z"
    },
    "papermill": {
     "duration": 0.04094,
     "end_time": "2021-12-20T12:17:05.783001",
     "exception": false,
     "start_time": "2021-12-20T12:17:05.742061",
     "status": "completed"
    },
    "tags": []
   },
   "outputs": [
    {
     "name": "stdout",
     "output_type": "stream",
     "text": [
      "Number of entries in each category:\n",
      "training:  [12240  1261  6749   380  6264  1099]\n",
      "validation:  [3054  334 1700   98 1613  306]\n"
     ]
    }
   ],
   "source": [
    "print('Number of entries in each category:')\n",
    "print('training: ', y_train.sum(axis=0))\n",
    "print('validation: ', y_val.sum(axis=0))"
   ]
  },
  {
   "cell_type": "code",
   "execution_count": 10,
   "id": "858ac025",
   "metadata": {
    "execution": {
     "iopub.execute_input": "2021-12-20T12:17:05.852535Z",
     "iopub.status.busy": "2021-12-20T12:17:05.851751Z",
     "iopub.status.idle": "2021-12-20T12:17:05.855350Z",
     "shell.execute_reply": "2021-12-20T12:17:05.855950Z",
     "shell.execute_reply.started": "2021-12-20T12:03:36.668026Z"
    },
    "papermill": {
     "duration": 0.041999,
     "end_time": "2021-12-20T12:17:05.856108",
     "exception": false,
     "start_time": "2021-12-20T12:17:05.814109",
     "status": "completed"
    },
    "tags": []
   },
   "outputs": [
    {
     "name": "stdout",
     "output_type": "stream",
     "text": [
      "Tokenized sentences: \n",
      " [ 8795    16    12    80   145     4   252   378    96  9158    23  1657\n",
      "     4    23   165    96 18363   238  1113     7   818  8795 52892   767\n",
      "  1923 34766    57 34288  2625  1274  8795 10389   886   448 11151     0\n",
      "     0     0     0     0     0     0     0     0     0     0     0     0\n",
      "     0     0     0     0     0     0     0     0     0     0     0     0\n",
      "     0     0     0     0     0     0     0     0     0     0     0     0\n",
      "     0     0     0     0     0     0     0     0     0     0     0     0\n",
      "     0     0     0     0     0     0     0     0     0     0     0     0\n",
      "     0     0     0     0     0     0     0     0     0     0     0     0\n",
      "     0     0     0     0     0     0     0     0     0     0     0     0\n",
      "     0     0     0     0     0     0     0     0     0     0     0     0\n",
      "     0     0     0     0     0     0     0     0     0     0     0     0\n",
      "     0     0     0     0     0     0     0     0     0     0     0     0\n",
      "     0     0     0     0     0     0     0     0     0     0     0     0\n",
      "     0     0     0     0     0     0     0     0     0     0     0     0\n",
      "     0     0     0     0     0     0     0     0     0     0     0     0\n",
      "     0     0     0     0     0     0     0     0]\n",
      "One hot label: \n",
      " [1 0 1 0 0 0]\n"
     ]
    }
   ],
   "source": [
    "print('Tokenized sentences: \\n', data[10])\n",
    "print('One hot label: \\n', labels[10])"
   ]
  },
  {
   "cell_type": "code",
   "execution_count": 11,
   "id": "7e11f731",
   "metadata": {
    "execution": {
     "iopub.execute_input": "2021-12-20T12:17:05.922485Z",
     "iopub.status.busy": "2021-12-20T12:17:05.921972Z",
     "iopub.status.idle": "2021-12-20T12:17:22.529335Z",
     "shell.execute_reply": "2021-12-20T12:17:22.529883Z",
     "shell.execute_reply.started": "2021-12-20T12:03:39.063200Z"
    },
    "papermill": {
     "duration": 16.643281,
     "end_time": "2021-12-20T12:17:22.530085",
     "exception": false,
     "start_time": "2021-12-20T12:17:05.886804",
     "status": "completed"
    },
    "tags": []
   },
   "outputs": [
    {
     "name": "stdout",
     "output_type": "stream",
     "text": [
      "Loading GloVe from: ../input/glove6b/glove.6B.100d.txt ...Done.\n",
      " Proceeding with Embedding Matrix... Completed!\n"
     ]
    }
   ],
   "source": [
    "embeddings_index = {}\n",
    "f = open(GLOVE_DIR)\n",
    "print('Loading GloVe from:', GLOVE_DIR,'...', end='')\n",
    "for line in f:\n",
    "    values = line.split()\n",
    "    word = values[0]\n",
    "    embeddings_index[word] = np.asarray(values[1:], dtype='float32')\n",
    "f.close()\n",
    "print(\"Done.\\n Proceeding with Embedding Matrix...\", end=\"\")\n",
    "\n",
    "embedding_matrix = np.random.random((len(word_index) + 1, EMBEDDING_DIM))\n",
    "for word, i in word_index.items():\n",
    "    embedding_vector = embeddings_index.get(word)\n",
    "    if embedding_vector is not None:\n",
    "        embedding_matrix[i] = embedding_vector\n",
    "print(\" Completed!\")"
   ]
  },
  {
   "cell_type": "code",
   "execution_count": 12,
   "id": "b372d27c",
   "metadata": {
    "execution": {
     "iopub.execute_input": "2021-12-20T12:17:22.597178Z",
     "iopub.status.busy": "2021-12-20T12:17:22.594081Z",
     "iopub.status.idle": "2021-12-20T12:17:24.972138Z",
     "shell.execute_reply": "2021-12-20T12:17:24.972628Z",
     "shell.execute_reply.started": "2021-12-20T12:03:55.467662Z"
    },
    "papermill": {
     "duration": 2.411049,
     "end_time": "2021-12-20T12:17:24.972817",
     "exception": false,
     "start_time": "2021-12-20T12:17:22.561768",
     "status": "completed"
    },
    "tags": []
   },
   "outputs": [
    {
     "name": "stderr",
     "output_type": "stream",
     "text": [
      "2021-12-20 12:17:22.682501: I tensorflow/stream_executor/cuda/cuda_gpu_executor.cc:937] successful NUMA node read from SysFS had negative value (-1), but there must be at least one NUMA node, so returning NUMA node zero\n",
      "2021-12-20 12:17:22.771223: I tensorflow/stream_executor/cuda/cuda_gpu_executor.cc:937] successful NUMA node read from SysFS had negative value (-1), but there must be at least one NUMA node, so returning NUMA node zero\n",
      "2021-12-20 12:17:22.771980: I tensorflow/stream_executor/cuda/cuda_gpu_executor.cc:937] successful NUMA node read from SysFS had negative value (-1), but there must be at least one NUMA node, so returning NUMA node zero\n",
      "2021-12-20 12:17:22.773488: I tensorflow/core/platform/cpu_feature_guard.cc:142] This TensorFlow binary is optimized with oneAPI Deep Neural Network Library (oneDNN) to use the following CPU instructions in performance-critical operations:  AVX2 AVX512F FMA\n",
      "To enable them in other operations, rebuild TensorFlow with the appropriate compiler flags.\n",
      "2021-12-20 12:17:22.774714: I tensorflow/stream_executor/cuda/cuda_gpu_executor.cc:937] successful NUMA node read from SysFS had negative value (-1), but there must be at least one NUMA node, so returning NUMA node zero\n",
      "2021-12-20 12:17:22.775630: I tensorflow/stream_executor/cuda/cuda_gpu_executor.cc:937] successful NUMA node read from SysFS had negative value (-1), but there must be at least one NUMA node, so returning NUMA node zero\n",
      "2021-12-20 12:17:22.776514: I tensorflow/stream_executor/cuda/cuda_gpu_executor.cc:937] successful NUMA node read from SysFS had negative value (-1), but there must be at least one NUMA node, so returning NUMA node zero\n",
      "2021-12-20 12:17:24.535563: I tensorflow/stream_executor/cuda/cuda_gpu_executor.cc:937] successful NUMA node read from SysFS had negative value (-1), but there must be at least one NUMA node, so returning NUMA node zero\n",
      "2021-12-20 12:17:24.536391: I tensorflow/stream_executor/cuda/cuda_gpu_executor.cc:937] successful NUMA node read from SysFS had negative value (-1), but there must be at least one NUMA node, so returning NUMA node zero\n",
      "2021-12-20 12:17:24.537126: I tensorflow/stream_executor/cuda/cuda_gpu_executor.cc:937] successful NUMA node read from SysFS had negative value (-1), but there must be at least one NUMA node, so returning NUMA node zero\n",
      "2021-12-20 12:17:24.537757: I tensorflow/core/common_runtime/gpu/gpu_device.cc:1510] Created device /job:localhost/replica:0/task:0/device:GPU:0 with 15403 MB memory:  -> device: 0, name: Tesla P100-PCIE-16GB, pci bus id: 0000:00:04.0, compute capability: 6.0\n"
     ]
    }
   ],
   "source": [
    "sequence_input = Input(shape=(MAX_SEQUENCE_LENGTH,), dtype='int32')\n",
    "embedding_layer = Embedding(len(word_index) + 1,\n",
    "                           EMBEDDING_DIM,\n",
    "                           weights = [embedding_matrix],\n",
    "                           input_length = MAX_SEQUENCE_LENGTH,\n",
    "                           trainable=False,\n",
    "                           name = 'embeddings')\n",
    "embedded_sequences = embedding_layer(sequence_input)"
   ]
  },
  {
   "cell_type": "code",
   "execution_count": 13,
   "id": "40e24dbc",
   "metadata": {
    "execution": {
     "iopub.execute_input": "2021-12-20T12:17:25.050298Z",
     "iopub.status.busy": "2021-12-20T12:17:25.049481Z",
     "iopub.status.idle": "2021-12-20T12:17:25.585430Z",
     "shell.execute_reply": "2021-12-20T12:17:25.584872Z",
     "shell.execute_reply.started": "2021-12-20T12:03:56.629954Z"
    },
    "papermill": {
     "duration": 0.580774,
     "end_time": "2021-12-20T12:17:25.585571",
     "exception": false,
     "start_time": "2021-12-20T12:17:25.004797",
     "status": "completed"
    },
    "tags": []
   },
   "outputs": [],
   "source": [
    "x = LSTM(60, return_sequences=True,name='lstm_layer')(embedded_sequences)\n",
    "x = GlobalMaxPool1D()(x)\n",
    "x = Dropout(0.1)(x)\n",
    "x = Dense(50, activation=\"relu\")(x)\n",
    "x = Dropout(0.1)(x)\n",
    "preds = Dense(6, activation=\"sigmoid\")(x)"
   ]
  },
  {
   "cell_type": "code",
   "execution_count": 14,
   "id": "f6497ef6",
   "metadata": {
    "execution": {
     "iopub.execute_input": "2021-12-20T12:17:25.652868Z",
     "iopub.status.busy": "2021-12-20T12:17:25.652052Z",
     "iopub.status.idle": "2021-12-20T12:17:25.672824Z",
     "shell.execute_reply": "2021-12-20T12:17:25.672221Z",
     "shell.execute_reply.started": "2021-12-20T12:04:27.535813Z"
    },
    "papermill": {
     "duration": 0.055813,
     "end_time": "2021-12-20T12:17:25.672968",
     "exception": false,
     "start_time": "2021-12-20T12:17:25.617155",
     "status": "completed"
    },
    "tags": []
   },
   "outputs": [
    {
     "name": "stdout",
     "output_type": "stream",
     "text": [
      "Model: \"model\"\n",
      "_________________________________________________________________\n",
      "Layer (type)                 Output Shape              Param #   \n",
      "=================================================================\n",
      "input_1 (InputLayer)         [(None, 200)]             0         \n",
      "_________________________________________________________________\n",
      "embeddings (Embedding)       (None, 200, 100)          18144300  \n",
      "_________________________________________________________________\n",
      "lstm_layer (LSTM)            (None, 200, 60)           38640     \n",
      "_________________________________________________________________\n",
      "global_max_pooling1d (Global (None, 60)                0         \n",
      "_________________________________________________________________\n",
      "dropout (Dropout)            (None, 60)                0         \n",
      "_________________________________________________________________\n",
      "dense (Dense)                (None, 50)                3050      \n",
      "_________________________________________________________________\n",
      "dropout_1 (Dropout)          (None, 50)                0         \n",
      "_________________________________________________________________\n",
      "dense_1 (Dense)              (None, 6)                 306       \n",
      "=================================================================\n",
      "Total params: 18,186,296\n",
      "Trainable params: 41,996\n",
      "Non-trainable params: 18,144,300\n",
      "_________________________________________________________________\n"
     ]
    }
   ],
   "source": [
    "model = Model(sequence_input, preds)\n",
    "callback = tf.keras.callbacks.EarlyStopping(monitor='val_loss', patience=3)\n",
    "opt = tf.keras.optimizers.Adam(learning_rate=1e-4)\n",
    "model.compile(loss = 'binary_crossentropy',\n",
    "             optimizer=opt,\n",
    "             metrics = ['accuracy'])\n",
    "model.summary()"
   ]
  },
  {
   "cell_type": "code",
   "execution_count": 15,
   "id": "9fbce7a9",
   "metadata": {
    "execution": {
     "iopub.execute_input": "2021-12-20T12:17:25.741492Z",
     "iopub.status.busy": "2021-12-20T12:17:25.740610Z",
     "iopub.status.idle": "2021-12-20T12:17:26.466822Z",
     "shell.execute_reply": "2021-12-20T12:17:26.466368Z",
     "shell.execute_reply.started": "2021-12-20T12:04:30.309542Z"
    },
    "papermill": {
     "duration": 0.761637,
     "end_time": "2021-12-20T12:17:26.466945",
     "exception": false,
     "start_time": "2021-12-20T12:17:25.705308",
     "status": "completed"
    },
    "tags": []
   },
   "outputs": [
    {
     "data": {
      "image/png": "[encoded data removed]",
      "text/plain": [
       "<IPython.core.display.Image object>"
      ]
     },
     "execution_count": 15,
     "metadata": {},
     "output_type": "execute_result"
    }
   ],
   "source": [
    "tf.keras.utils.plot_model(model)"
   ]
  },
  {
   "cell_type": "code",
   "execution_count": 16,
   "id": "319dfc7b",
   "metadata": {
    "execution": {
     "iopub.execute_input": "2021-12-20T12:17:26.537254Z",
     "iopub.status.busy": "2021-12-20T12:17:26.536744Z",
     "iopub.status.idle": "2021-12-20T12:24:43.542252Z",
     "shell.execute_reply": "2021-12-20T12:24:43.542727Z",
     "shell.execute_reply.started": "2021-12-20T12:04:33.060194Z"
    },
    "papermill": {
     "duration": 437.043297,
     "end_time": "2021-12-20T12:24:43.542883",
     "exception": false,
     "start_time": "2021-12-20T12:17:26.499586",
     "status": "completed"
    },
    "tags": []
   },
   "outputs": [
    {
     "name": "stdout",
     "output_type": "stream",
     "text": [
      "Training progress:\n",
      "Epoch 1/10\n"
     ]
    },
    {
     "name": "stderr",
     "output_type": "stream",
     "text": [
      "2021-12-20 12:17:26.666952: I tensorflow/compiler/mlir/mlir_graph_optimization_pass.cc:185] None of the MLIR Optimization Passes are enabled (registered 2)\n",
      "2021-12-20 12:17:28.850780: I tensorflow/stream_executor/cuda/cuda_dnn.cc:369] Loaded cuDNN version 8005\n"
     ]
    },
    {
     "name": "stdout",
     "output_type": "stream",
     "text": [
      "3990/3990 [==============================] - 47s 11ms/step - loss: 0.1182 - accuracy: 0.7825 - val_loss: 0.0707 - val_accuracy: 0.9940\n",
      "Epoch 2/10\n",
      "3990/3990 [==============================] - 43s 11ms/step - loss: 0.0743 - accuracy: 0.9271 - val_loss: 0.0653 - val_accuracy: 0.9940\n",
      "Epoch 3/10\n",
      "3990/3990 [==============================] - 43s 11ms/step - loss: 0.0657 - accuracy: 0.9618 - val_loss: 0.0603 - val_accuracy: 0.9940\n",
      "Epoch 4/10\n",
      "3990/3990 [==============================] - 43s 11ms/step - loss: 0.0619 - accuracy: 0.9741 - val_loss: 0.0569 - val_accuracy: 0.9940\n",
      "Epoch 5/10\n",
      "3990/3990 [==============================] - 43s 11ms/step - loss: 0.0587 - accuracy: 0.9829 - val_loss: 0.0566 - val_accuracy: 0.9940\n",
      "Epoch 6/10\n",
      "3990/3990 [==============================] - 43s 11ms/step - loss: 0.0565 - accuracy: 0.9877 - val_loss: 0.0543 - val_accuracy: 0.9940\n",
      "Epoch 7/10\n",
      "3990/3990 [==============================] - 43s 11ms/step - loss: 0.0548 - accuracy: 0.9904 - val_loss: 0.0556 - val_accuracy: 0.9940\n",
      "Epoch 8/10\n",
      "3990/3990 [==============================] - 43s 11ms/step - loss: 0.0535 - accuracy: 0.9922 - val_loss: 0.0522 - val_accuracy: 0.9940\n",
      "Epoch 9/10\n",
      "3990/3990 [==============================] - 44s 11ms/step - loss: 0.0525 - accuracy: 0.9918 - val_loss: 0.0518 - val_accuracy: 0.9940\n",
      "Epoch 10/10\n",
      "3990/3990 [==============================] - 44s 11ms/step - loss: 0.0514 - accuracy: 0.9921 - val_loss: 0.0510 - val_accuracy: 0.9940\n"
     ]
    }
   ],
   "source": [
    "print('Training progress:')\n",
    "history = model.fit(x_train, y_train, epochs = 10, batch_size=32, validation_data=(x_val, y_val), callbacks=[callback])"
   ]
  },
  {
   "cell_type": "code",
   "execution_count": 17,
   "id": "dcc8da3a",
   "metadata": {
    "execution": {
     "iopub.execute_input": "2021-12-20T12:24:47.221464Z",
     "iopub.status.busy": "2021-12-20T12:24:47.220555Z",
     "iopub.status.idle": "2021-12-20T12:24:47.427558Z",
     "shell.execute_reply": "2021-12-20T12:24:47.426963Z",
     "shell.execute_reply.started": "2021-12-20T12:12:56.463568Z"
    },
    "papermill": {
     "duration": 2.051604,
     "end_time": "2021-12-20T12:24:47.427692",
     "exception": false,
     "start_time": "2021-12-20T12:24:45.376088",
     "status": "completed"
    },
    "tags": []
   },
   "outputs": [
    {
     "data": {
      "image/png": "[encoded data removed]",
      "text/plain": [
       "<Figure size 432x288 with 1 Axes>"
      ]
     },
     "metadata": {
      "needs_background": "light"
     },
     "output_type": "display_data"
    }
   ],
   "source": [
    "import matplotlib.pyplot as plt\n",
    "loss = history.history['loss']\n",
    "val_loss = history.history['val_loss']\n",
    "\n",
    "epochs = range(1, len(loss)+1)\n",
    "\n",
    "plt.plot(epochs, loss, label='Training loss')\n",
    "plt.plot(epochs, val_loss, label='Validation loss')\n",
    "plt.title('Training and validation loss')\n",
    "plt.xlabel('Epochs')\n",
    "plt.ylabel('Loss')\n",
    "plt.legend()\n",
    "plt.show();"
   ]
  },
  {
   "cell_type": "code",
   "execution_count": 18,
   "id": "07754284",
   "metadata": {
    "execution": {
     "iopub.execute_input": "2021-12-20T12:24:51.413064Z",
     "iopub.status.busy": "2021-12-20T12:24:51.409112Z",
     "iopub.status.idle": "2021-12-20T12:24:51.568188Z",
     "shell.execute_reply": "2021-12-20T12:24:51.568597Z",
     "shell.execute_reply.started": "2021-12-20T12:12:56.676476Z"
    },
    "papermill": {
     "duration": 2.287885,
     "end_time": "2021-12-20T12:24:51.568758",
     "exception": false,
     "start_time": "2021-12-20T12:24:49.280873",
     "status": "completed"
    },
    "tags": []
   },
   "outputs": [
    {
     "data": {
      "image/png": "[encoded data removed]",
      "text/plain": [
       "<Figure size 432x288 with 1 Axes>"
      ]
     },
     "metadata": {
      "needs_background": "light"
     },
     "output_type": "display_data"
    }
   ],
   "source": [
    "\n",
    "accuracy = history.history['accuracy']\n",
    "val_accuracy = history.history['val_accuracy']\n",
    "\n",
    "plt.plot(epochs, accuracy, label='Training accuracy')\n",
    "plt.plot(epochs, val_accuracy, label='Validation accuracy')\n",
    "plt.title('Training and validation accuracy')\n",
    "plt.ylabel('Accuracy')\n",
    "plt.xlabel('Epochs')\n",
    "plt.legend()\n",
    "plt.show();"
   ]
  },
  {
   "cell_type": "code",
   "execution_count": 19,
   "id": "041f2347",
   "metadata": {
    "execution": {
     "iopub.execute_input": "2021-12-20T12:24:55.259346Z",
     "iopub.status.busy": "2021-12-20T12:24:55.258766Z",
     "iopub.status.idle": "2021-12-20T12:24:55.782431Z",
     "shell.execute_reply": "2021-12-20T12:24:55.781941Z",
     "shell.execute_reply.started": "2021-12-20T11:28:41.957657Z"
    },
    "papermill": {
     "duration": 2.388061,
     "end_time": "2021-12-20T12:24:55.782561",
     "exception": false,
     "start_time": "2021-12-20T12:24:53.394500",
     "status": "completed"
    },
    "tags": []
   },
   "outputs": [
    {
     "data": {
      "text/html": [
       "<div>\n",
       "<style scoped>\n",
       "    .dataframe tbody tr th:only-of-type {\n",
       "        vertical-align: middle;\n",
       "    }\n",
       "\n",
       "    .dataframe tbody tr th {\n",
       "        vertical-align: top;\n",
       "    }\n",
       "\n",
       "    .dataframe thead th {\n",
       "        text-align: right;\n",
       "    }\n",
       "</style>\n",
       "<table border=\"1\" class=\"dataframe\">\n",
       "  <thead>\n",
       "    <tr style=\"text-align: right;\">\n",
       "      <th></th>\n",
       "      <th>worker</th>\n",
       "      <th>less_toxic</th>\n",
       "      <th>more_toxic</th>\n",
       "    </tr>\n",
       "  </thead>\n",
       "  <tbody>\n",
       "    <tr>\n",
       "      <th>0</th>\n",
       "      <td>313</td>\n",
       "      <td>This article sucks \\n\\nwoo woo wooooooo</td>\n",
       "      <td>WHAT!!!!!!!!?!?!!?!?!!?!?!?!?!!!!!!!!!!!!!!!!!...</td>\n",
       "    </tr>\n",
       "    <tr>\n",
       "      <th>1</th>\n",
       "      <td>188</td>\n",
       "      <td>\"And yes, people should recognize that but the...</td>\n",
       "      <td>Daphne Guinness \\n\\nTop of the mornin' my fav...</td>\n",
       "    </tr>\n",
       "    <tr>\n",
       "      <th>2</th>\n",
       "      <td>82</td>\n",
       "      <td>Western Media?\\n\\nYup, because every crime in...</td>\n",
       "      <td>\"Atom you don't believe actual photos of mastu...</td>\n",
       "    </tr>\n",
       "    <tr>\n",
       "      <th>3</th>\n",
       "      <td>347</td>\n",
       "      <td>And you removed it! You numbskull! I don't car...</td>\n",
       "      <td>You seem to have sand in your vagina.\\n\\nMight...</td>\n",
       "    </tr>\n",
       "    <tr>\n",
       "      <th>4</th>\n",
       "      <td>539</td>\n",
       "      <td>smelly vagina \\n\\nBluerasberry why don't you ...</td>\n",
       "      <td>hey \\n\\nway to support nazis, you racist</td>\n",
       "    </tr>\n",
       "  </tbody>\n",
       "</table>\n",
       "</div>"
      ],
      "text/plain": [
       "   worker                                         less_toxic  \\\n",
       "0     313            This article sucks \\n\\nwoo woo wooooooo   \n",
       "1     188  \"And yes, people should recognize that but the...   \n",
       "2      82   Western Media?\\n\\nYup, because every crime in...   \n",
       "3     347  And you removed it! You numbskull! I don't car...   \n",
       "4     539   smelly vagina \\n\\nBluerasberry why don't you ...   \n",
       "\n",
       "                                          more_toxic  \n",
       "0  WHAT!!!!!!!!?!?!!?!?!!?!?!?!?!!!!!!!!!!!!!!!!!...  \n",
       "1   Daphne Guinness \\n\\nTop of the mornin' my fav...  \n",
       "2  \"Atom you don't believe actual photos of mastu...  \n",
       "3  You seem to have sand in your vagina.\\n\\nMight...  \n",
       "4           hey \\n\\nway to support nazis, you racist  "
      ]
     },
     "execution_count": 19,
     "metadata": {},
     "output_type": "execute_result"
    }
   ],
   "source": [
    "validation_data = pd.read_csv('/kaggle/input/jigsaw-toxic-severity-rating/validation_data.csv')\n",
    "validation_data.head()"
   ]
  },
  {
   "cell_type": "code",
   "execution_count": 20,
   "id": "24e93f78",
   "metadata": {
    "execution": {
     "iopub.execute_input": "2021-12-20T12:24:59.409975Z",
     "iopub.status.busy": "2021-12-20T12:24:59.409114Z",
     "iopub.status.idle": "2021-12-20T12:24:59.411451Z",
     "shell.execute_reply": "2021-12-20T12:24:59.410923Z",
     "shell.execute_reply.started": "2021-12-20T10:42:54.965199Z"
    },
    "papermill": {
     "duration": 1.8158,
     "end_time": "2021-12-20T12:24:59.411566",
     "exception": false,
     "start_time": "2021-12-20T12:24:57.595766",
     "status": "completed"
    },
    "tags": []
   },
   "outputs": [],
   "source": [
    "# new_validation_data = clean(validation_data, 'less_toxic')\n",
    "# new_validation_data = clean(validation_data, 'more_toxic')\n",
    "# new_validation_data['clean_less_toxic'] = new_validation_data['less_toxic'].progress_apply(text_cleaning)\n",
    "# new_validation_data['clean_more_toxic'] = new_validation_data['more_toxic'].progress_apply(text_cleaning)"
   ]
  },
  {
   "cell_type": "code",
   "execution_count": 21,
   "id": "441a6977",
   "metadata": {
    "execution": {
     "iopub.execute_input": "2021-12-20T12:25:03.372400Z",
     "iopub.status.busy": "2021-12-20T12:25:03.371487Z",
     "iopub.status.idle": "2021-12-20T12:25:03.373826Z",
     "shell.execute_reply": "2021-12-20T12:25:03.373315Z",
     "shell.execute_reply.started": "2021-12-20T10:44:23.716910Z"
    },
    "papermill": {
     "duration": 1.835747,
     "end_time": "2021-12-20T12:25:03.373940",
     "exception": false,
     "start_time": "2021-12-20T12:25:01.538193",
     "status": "completed"
    },
    "tags": []
   },
   "outputs": [],
   "source": [
    "# less_toxic_sample = new_validation_data['clean_less_toxic'].values\n",
    "# more_toxic_sample = new_validation_data['clean_more_toxic'].values\n",
    "\n",
    "# sequences = tokenizer.texts_to_sequences(less_toxic_sample)\n",
    "# less_toxic_data = pad_sequences(sequences, padding = 'post', maxlen = MAX_SEQUENCE_LENGTH)\n",
    "\n",
    "# sequences = tokenizer.texts_to_sequences(more_toxic_sample)\n",
    "# more_toxic_data = pad_sequences(sequences, padding = 'post', maxlen = MAX_SEQUENCE_LENGTH)"
   ]
  },
  {
   "cell_type": "code",
   "execution_count": 22,
   "id": "26f56c43",
   "metadata": {
    "execution": {
     "iopub.execute_input": "2021-12-20T12:25:07.025458Z",
     "iopub.status.busy": "2021-12-20T12:25:07.024695Z",
     "iopub.status.idle": "2021-12-20T12:25:07.027164Z",
     "shell.execute_reply": "2021-12-20T12:25:07.026771Z",
     "shell.execute_reply.started": "2021-12-20T10:44:28.264978Z"
    },
    "papermill": {
     "duration": 1.806417,
     "end_time": "2021-12-20T12:25:07.027301",
     "exception": false,
     "start_time": "2021-12-20T12:25:05.220884",
     "status": "completed"
    },
    "tags": []
   },
   "outputs": [],
   "source": [
    "# less_toxic_predictions = model.predict(less_toxic_data)\n",
    "# more_toxic_predictions = model.predict(more_toxic_data)"
   ]
  },
  {
   "cell_type": "code",
   "execution_count": 23,
   "id": "ea700fe4",
   "metadata": {
    "execution": {
     "iopub.execute_input": "2021-12-20T12:25:10.718694Z",
     "iopub.status.busy": "2021-12-20T12:25:10.717838Z",
     "iopub.status.idle": "2021-12-20T12:25:10.719924Z",
     "shell.execute_reply": "2021-12-20T12:25:10.720324Z",
     "shell.execute_reply.started": "2021-12-20T11:06:19.299969Z"
    },
    "papermill": {
     "duration": 1.849686,
     "end_time": "2021-12-20T12:25:10.720470",
     "exception": false,
     "start_time": "2021-12-20T12:25:08.870784",
     "status": "completed"
    },
    "tags": []
   },
   "outputs": [],
   "source": [
    "# weights = [2, 5, 0.5, 0.5, 0.5, 1]\n",
    "# print((np.dot(less_toxic_predictions, weights) < np.dot(more_toxic_predictions, weights)).sum()/len(more_toxic_predictions))"
   ]
  },
  {
   "cell_type": "code",
   "execution_count": 24,
   "id": "34dd551a",
   "metadata": {
    "execution": {
     "iopub.execute_input": "2021-12-20T12:25:15.331826Z",
     "iopub.status.busy": "2021-12-20T12:25:15.331001Z",
     "iopub.status.idle": "2021-12-20T12:25:15.333469Z",
     "shell.execute_reply": "2021-12-20T12:25:15.333026Z",
     "shell.execute_reply.started": "2021-12-20T10:53:42.134298Z"
    },
    "papermill": {
     "duration": 1.941629,
     "end_time": "2021-12-20T12:25:15.333587",
     "exception": false,
     "start_time": "2021-12-20T12:25:13.391958",
     "status": "completed"
    },
    "tags": []
   },
   "outputs": [],
   "source": [
    "# df_predictions = pd.DataFrame({'less_toxic': less_toxic_sample,\n",
    "#                                'more_toxic': more_toxic_sample,\n",
    "#                                'score_1': np.dot(less_toxic_predictions, weights),\n",
    "#                                'score_2': np.dot(more_toxic_predictions, weights)})"
   ]
  },
  {
   "cell_type": "code",
   "execution_count": null,
   "id": "4ba33329",
   "metadata": {
    "papermill": {
     "duration": 1.80711,
     "end_time": "2021-12-20T12:25:18.998576",
     "exception": false,
     "start_time": "2021-12-20T12:25:17.191466",
     "status": "completed"
    },
    "tags": []
   },
   "outputs": [],
   "source": []
  },
  {
   "cell_type": "code",
   "execution_count": 25,
   "id": "bbffa4ff",
   "metadata": {
    "execution": {
     "iopub.execute_input": "2021-12-20T12:25:22.659138Z",
     "iopub.status.busy": "2021-12-20T12:25:22.658327Z",
     "iopub.status.idle": "2021-12-20T12:25:22.660819Z",
     "shell.execute_reply": "2021-12-20T12:25:22.660421Z",
     "shell.execute_reply.started": "2021-12-20T10:54:13.154242Z"
    },
    "papermill": {
     "duration": 1.855834,
     "end_time": "2021-12-20T12:25:22.660929",
     "exception": false,
     "start_time": "2021-12-20T12:25:20.805095",
     "status": "completed"
    },
    "tags": []
   },
   "outputs": [],
   "source": [
    "# df_wrong_predictions = df_predictions[df_predictions['score_2'] < df_predictions['score_1'] ]"
   ]
  },
  {
   "cell_type": "code",
   "execution_count": 26,
   "id": "beeebfa1",
   "metadata": {
    "execution": {
     "iopub.execute_input": "2021-12-20T12:25:26.552150Z",
     "iopub.status.busy": "2021-12-20T12:25:26.551215Z",
     "iopub.status.idle": "2021-12-20T12:25:26.552992Z",
     "shell.execute_reply": "2021-12-20T12:25:26.553425Z",
     "shell.execute_reply.started": "2021-12-20T11:18:57.125429Z"
    },
    "papermill": {
     "duration": 1.80923,
     "end_time": "2021-12-20T12:25:26.553558",
     "exception": false,
     "start_time": "2021-12-20T12:25:24.744328",
     "status": "completed"
    },
    "tags": []
   },
   "outputs": [],
   "source": [
    "# df_wrong_predictions.iloc[5]['more_toxic']"
   ]
  },
  {
   "cell_type": "code",
   "execution_count": 27,
   "id": "d216ec99",
   "metadata": {
    "execution": {
     "iopub.execute_input": "2021-12-20T12:25:30.210356Z",
     "iopub.status.busy": "2021-12-20T12:25:30.209531Z",
     "iopub.status.idle": "2021-12-20T12:25:30.211942Z",
     "shell.execute_reply": "2021-12-20T12:25:30.211549Z",
     "shell.execute_reply.started": "2021-12-20T11:18:16.056092Z"
    },
    "papermill": {
     "duration": 1.851334,
     "end_time": "2021-12-20T12:25:30.212050",
     "exception": false,
     "start_time": "2021-12-20T12:25:28.360716",
     "status": "completed"
    },
    "tags": []
   },
   "outputs": [],
   "source": [
    "# validation_data.iloc[6]['more_toxic']"
   ]
  },
  {
   "cell_type": "code",
   "execution_count": 28,
   "id": "4ebea3e9",
   "metadata": {
    "execution": {
     "iopub.execute_input": "2021-12-20T12:25:33.951209Z",
     "iopub.status.busy": "2021-12-20T12:25:33.950416Z",
     "iopub.status.idle": "2021-12-20T12:25:39.118565Z",
     "shell.execute_reply": "2021-12-20T12:25:39.117646Z",
     "shell.execute_reply.started": "2021-12-20T11:21:37.764976Z"
    },
    "papermill": {
     "duration": 7.088686,
     "end_time": "2021-12-20T12:25:39.118692",
     "exception": false,
     "start_time": "2021-12-20T12:25:32.030006",
     "status": "completed"
    },
    "tags": []
   },
   "outputs": [
    {
     "name": "stderr",
     "output_type": "stream",
     "text": [
      "/opt/conda/lib/python3.7/site-packages/ipykernel_launcher.py:46: FutureWarning: The default value of regex will change from True to False in a future version.\n",
      "/opt/conda/lib/python3.7/site-packages/ipykernel_launcher.py:50: FutureWarning: The default value of regex will change from True to False in a future version.\n",
      "/opt/conda/lib/python3.7/site-packages/ipykernel_launcher.py:51: FutureWarning: The default value of regex will change from True to False in a future version.\n",
      "/opt/conda/lib/python3.7/site-packages/ipykernel_launcher.py:52: FutureWarning: The default value of regex will change from True to False in a future version.\n",
      "/opt/conda/lib/python3.7/site-packages/ipykernel_launcher.py:53: FutureWarning: The default value of regex will change from True to False in a future version.\n",
      "/opt/conda/lib/python3.7/site-packages/ipykernel_launcher.py:54: FutureWarning: The default value of regex will change from True to False in a future version.\n",
      "/opt/conda/lib/python3.7/site-packages/ipykernel_launcher.py:58: FutureWarning: The default value of regex will change from True to False in a future version.\n",
      "/opt/conda/lib/python3.7/site-packages/ipykernel_launcher.py:60: FutureWarning: The default value of regex will change from True to False in a future version.\n",
      "/opt/conda/lib/python3.7/site-packages/ipykernel_launcher.py:62: FutureWarning: The default value of regex will change from True to False in a future version.\n",
      "/opt/conda/lib/python3.7/site-packages/ipykernel_launcher.py:64: FutureWarning: The default value of regex will change from True to False in a future version.\n",
      "/opt/conda/lib/python3.7/site-packages/ipykernel_launcher.py:65: FutureWarning: The default value of regex will change from True to False in a future version.\n",
      "/opt/conda/lib/python3.7/site-packages/ipykernel_launcher.py:66: FutureWarning: The default value of regex will change from True to False in a future version.\n",
      "/opt/conda/lib/python3.7/site-packages/ipykernel_launcher.py:67: FutureWarning: The default value of regex will change from True to False in a future version.\n"
     ]
    },
    {
     "data": {
      "application/vnd.jupyter.widget-view+json": {
       "model_id": "5a173dc3ad7c451690f88150d393dd83",
       "version_major": 2,
       "version_minor": 0
      },
      "text/plain": [
       "  0%|          | 0/7537 [00:00<?, ?it/s]"
      ]
     },
     "metadata": {},
     "output_type": "display_data"
    }
   ],
   "source": [
    "df_sub = pd.read_csv(\"../input/jigsaw-toxic-severity-rating/comments_to_score.csv\")\n",
    "\n",
    "\n",
    "test_data = clean(df_sub, 'text')\n",
    "test_data['clean_text'] = test_data['text'].progress_apply(text_cleaning)\n"
   ]
  },
  {
   "cell_type": "code",
   "execution_count": 29,
   "id": "063a662b",
   "metadata": {
    "execution": {
     "iopub.execute_input": "2021-12-20T12:25:42.842997Z",
     "iopub.status.busy": "2021-12-20T12:25:42.828168Z",
     "iopub.status.idle": "2021-12-20T12:25:43.229331Z",
     "shell.execute_reply": "2021-12-20T12:25:43.229914Z",
     "shell.execute_reply.started": "2021-12-20T11:21:48.426967Z"
    },
    "papermill": {
     "duration": 2.264028,
     "end_time": "2021-12-20T12:25:43.230106",
     "exception": false,
     "start_time": "2021-12-20T12:25:40.966078",
     "status": "completed"
    },
    "tags": []
   },
   "outputs": [
    {
     "name": "stdout",
     "output_type": "stream",
     "text": [
      "Shape of data tensor: (7537, 200)\n"
     ]
    }
   ],
   "source": [
    "texts = test_data['clean_text'].values  \n",
    "sequences = tokenizer.texts_to_sequences(texts)\n",
    "test_data = pad_sequences(sequences, padding = 'post', maxlen = MAX_SEQUENCE_LENGTH)\n",
    "print('Shape of data tensor:', test_data.shape)"
   ]
  },
  {
   "cell_type": "code",
   "execution_count": 30,
   "id": "fcdf10fc",
   "metadata": {
    "execution": {
     "iopub.execute_input": "2021-12-20T12:25:47.740039Z",
     "iopub.status.busy": "2021-12-20T12:25:47.738937Z",
     "iopub.status.idle": "2021-12-20T12:25:48.936555Z",
     "shell.execute_reply": "2021-12-20T12:25:48.937339Z",
     "shell.execute_reply.started": "2021-12-20T11:21:59.859906Z"
    },
    "papermill": {
     "duration": 3.321495,
     "end_time": "2021-12-20T12:25:48.937584",
     "exception": false,
     "start_time": "2021-12-20T12:25:45.616089",
     "status": "completed"
    },
    "tags": []
   },
   "outputs": [],
   "source": [
    "weights = [2, 5, 0.5, 0.5, 0.5, 1]\n",
    "predictions = model.predict(test_data)\n",
    "df_sub['score'] = np.dot(predictions, weights)\n",
    "\n",
    "df_sub[['comment_id', 'score']].to_csv(\"submission.csv\", index=False)"
   ]
  },
  {
   "cell_type": "code",
   "execution_count": null,
   "id": "36a1d333",
   "metadata": {
    "papermill": {
     "duration": 1.818877,
     "end_time": "2021-12-20T12:25:52.604375",
     "exception": false,
     "start_time": "2021-12-20T12:25:50.785498",
     "status": "completed"
    },
    "tags": []
   },
   "outputs": [],
   "source": []
  }
 ],
 "metadata": {
  "kernelspec": {
   "display_name": "Python 3",
   "language": "python",
   "name": "python3"
  },
  "language_info": {
   "codemirror_mode": {
    "name": "ipython",
    "version": 3
   },
   "file_extension": ".py",
   "mimetype": "text/x-python",
   "name": "python",
   "nbconvert_exporter": "python",
   "pygments_lexer": "ipython3",
   "version": "3.7.12"
  },
  "papermill": {
   "default_parameters": {},
   "duration": 771.68322,
   "end_time": "2021-12-20T12:25:57.606052",
   "environment_variables": {},
   "exception": null,
   "input_path": "__notebook__.ipynb",
   "output_path": "__notebook__.ipynb",
   "parameters": {},
   "start_time": "2021-12-20T12:13:05.922832",
   "version": "2.3.3"
  },
  "widgets": {
   "application/vnd.jupyter.widget-state+json": {
    "state": {
     "03dc57eb663548ea9990fbdf55cb0586": {
      "model_module": "@jupyter-widgets/base",
      "model_module_version": "1.2.0",
      "model_name": "LayoutModel",
      "state": {
       "_model_module": "@jupyter-widgets/base",
       "_model_module_version": "1.2.0",
       "_model_name": "LayoutModel",
       "_view_count": null,
       "_view_module": "@jupyter-widgets/base",
       "_view_module_version": "1.2.0",
       "_view_name": "LayoutView",
       "align_content": null,
       "align_items": null,
       "align_self": null,
       "border": null,
       "bottom": null,
       "display": null,
       "flex": null,
       "flex_flow": null,
       "grid_area": null,
       "grid_auto_columns": null,
       "grid_auto_flow": null,
       "grid_auto_rows": null,
       "grid_column": null,
       "grid_gap": null,
       "grid_row": null,
       "grid_template_areas": null,
       "grid_template_columns": null,
       "grid_template_rows": null,
       "height": null,
       "justify_content": null,
       "justify_items": null,
       "left": null,
       "margin": null,
       "max_height": null,
       "max_width": null,
       "min_height": null,
       "min_width": null,
       "object_fit": null,
       "object_position": null,
       "order": null,
       "overflow": null,
       "overflow_x": null,
       "overflow_y": null,
       "padding": null,
       "right": null,
       "top": null,
       "visibility": null,
       "width": null
      }
     },
     "065f1f1d08c14b489ece3b00a8dc291c": {
      "model_module": "@jupyter-widgets/controls",
      "model_module_version": "1.5.0",
      "model_name": "HTMLModel",
      "state": {
       "_dom_classes": [],
       "_model_module": "@jupyter-widgets/controls",
       "_model_module_version": "1.5.0",
       "_model_name": "HTMLModel",
       "_view_count": null,
       "_view_module": "@jupyter-widgets/controls",
       "_view_module_version": "1.5.0",
       "_view_name": "HTMLView",
       "description": "",
       "description_tooltip": null,
       "layout": "IPY_MODEL_72988ddca8a642d0ba339eacf6413bbe",
       "placeholder": "​",
       "style": "IPY_MODEL_d69c9ecc30ed4c288c7ea1cd713ca95f",
       "value": "100%"
      }
     },
     "06f9d288e01142c39c950549b64eac78": {
      "model_module": "@jupyter-widgets/base",
      "model_module_version": "1.2.0",
      "model_name": "LayoutModel",
      "state": {
       "_model_module": "@jupyter-widgets/base",
       "_model_module_version": "1.2.0",
       "_model_name": "LayoutModel",
       "_view_count": null,
       "_view_module": "@jupyter-widgets/base",
       "_view_module_version": "1.2.0",
       "_view_name": "LayoutView",
       "align_content": null,
       "align_items": null,
       "align_self": null,
       "border": null,
       "bottom": null,
       "display": null,
       "flex": null,
       "flex_flow": null,
       "grid_area": null,
       "grid_auto_columns": null,
       "grid_auto_flow": null,
       "grid_auto_rows": null,
       "grid_column": null,
       "grid_gap": null,
       "grid_row": null,
       "grid_template_areas": null,
       "grid_template_columns": null,
       "grid_template_rows": null,
       "height": null,
       "justify_content": null,
       "justify_items": null,
       "left": null,
       "margin": null,
       "max_height": null,
       "max_width": null,
       "min_height": null,
       "min_width": null,
       "object_fit": null,
       "object_position": null,
       "order": null,
       "overflow": null,
       "overflow_x": null,
       "overflow_y": null,
       "padding": null,
       "right": null,
       "top": null,
       "visibility": null,
       "width": null
      }
     },
     "07fd28586bb94bb4aa8f595de3ebe50f": {
      "model_module": "@jupyter-widgets/controls",
      "model_module_version": "1.5.0",
      "model_name": "FloatProgressModel",
      "state": {
       "_dom_classes": [],
       "_model_module": "@jupyter-widgets/controls",
       "_model_module_version": "1.5.0",
       "_model_name": "FloatProgressModel",
       "_view_count": null,
       "_view_module": "@jupyter-widgets/controls",
       "_view_module_version": "1.5.0",
       "_view_name": "ProgressView",
       "bar_style": "success",
       "description": "",
       "description_tooltip": null,
       "layout": "IPY_MODEL_03dc57eb663548ea9990fbdf55cb0586",
       "max": 159571.0,
       "min": 0.0,
       "orientation": "horizontal",
       "style": "IPY_MODEL_a4721147d2f84c6e8546f90aef3a2f49",
       "value": 159571.0
      }
     },
     "0e845f02c32146b6a5ef3f9d811573ee": {
      "model_module": "@jupyter-widgets/controls",
      "model_module_version": "1.5.0",
      "model_name": "HTMLModel",
      "state": {
       "_dom_classes": [],
       "_model_module": "@jupyter-widgets/controls",
       "_model_module_version": "1.5.0",
       "_model_name": "HTMLModel",
       "_view_count": null,
       "_view_module": "@jupyter-widgets/controls",
       "_view_module_version": "1.5.0",
       "_view_name": "HTMLView",
       "description": "",
       "description_tooltip": null,
       "layout": "IPY_MODEL_bcf7e075f39b4fc799c8d7bccc329162",
       "placeholder": "​",
       "style": "IPY_MODEL_67f6f561d5c4419c9e0f339d8044406f",
       "value": " 7537/7537 [00:02&lt;00:00, 3676.01it/s]"
      }
     },
     "0fe13de14a0a496286b228184a9696ac": {
      "model_module": "@jupyter-widgets/controls",
      "model_module_version": "1.5.0",
      "model_name": "DescriptionStyleModel",
      "state": {
       "_model_module": "@jupyter-widgets/controls",
       "_model_module_version": "1.5.0",
       "_model_name": "DescriptionStyleModel",
       "_view_count": null,
       "_view_module": "@jupyter-widgets/base",
       "_view_module_version": "1.2.0",
       "_view_name": "StyleView",
       "description_width": ""
      }
     },
     "112d1c9989c44c6690cc75b98880244a": {
      "model_module": "@jupyter-widgets/base",
      "model_module_version": "1.2.0",
      "model_name": "LayoutModel",
      "state": {
       "_model_module": "@jupyter-widgets/base",
       "_model_module_version": "1.2.0",
       "_model_name": "LayoutModel",
       "_view_count": null,
       "_view_module": "@jupyter-widgets/base",
       "_view_module_version": "1.2.0",
       "_view_name": "LayoutView",
       "align_content": null,
       "align_items": null,
       "align_self": null,
       "border": null,
       "bottom": null,
       "display": null,
       "flex": null,
       "flex_flow": null,
       "grid_area": null,
       "grid_auto_columns": null,
       "grid_auto_flow": null,
       "grid_auto_rows": null,
       "grid_column": null,
       "grid_gap": null,
       "grid_row": null,
       "grid_template_areas": null,
       "grid_template_columns": null,
       "grid_template_rows": null,
       "height": null,
       "justify_content": null,
       "justify_items": null,
       "left": null,
       "margin": null,
       "max_height": null,
       "max_width": null,
       "min_height": null,
       "min_width": null,
       "object_fit": null,
       "object_position": null,
       "order": null,
       "overflow": null,
       "overflow_x": null,
       "overflow_y": null,
       "padding": null,
       "right": null,
       "top": null,
       "visibility": null,
       "width": null
      }
     },
     "11c07a06d9d04bb2a55b4a839802cd7e": {
      "model_module": "@jupyter-widgets/controls",
      "model_module_version": "1.5.0",
      "model_name": "HBoxModel",
      "state": {
       "_dom_classes": [],
       "_model_module": "@jupyter-widgets/controls",
       "_model_module_version": "1.5.0",
       "_model_name": "HBoxModel",
       "_view_count": null,
       "_view_module": "@jupyter-widgets/controls",
       "_view_module_version": "1.5.0",
       "_view_name": "HBoxView",
       "box_style": "",
       "children": [
        "IPY_MODEL_439ba968c10b464fb3fde37a7e7821a0",
        "IPY_MODEL_07fd28586bb94bb4aa8f595de3ebe50f",
        "IPY_MODEL_3a261e00b9864a72822c308da49aa70c"
       ],
       "layout": "IPY_MODEL_06f9d288e01142c39c950549b64eac78"
      }
     },
     "180a0626c32944d19f25dc5f57621641": {
      "model_module": "@jupyter-widgets/controls",
      "model_module_version": "1.5.0",
      "model_name": "DescriptionStyleModel",
      "state": {
       "_model_module": "@jupyter-widgets/controls",
       "_model_module_version": "1.5.0",
       "_model_name": "DescriptionStyleModel",
       "_view_count": null,
       "_view_module": "@jupyter-widgets/base",
       "_view_module_version": "1.2.0",
       "_view_name": "StyleView",
       "description_width": ""
      }
     },
     "243601aade8b42b1afccf64975bd4067": {
      "model_module": "@jupyter-widgets/base",
      "model_module_version": "1.2.0",
      "model_name": "LayoutModel",
      "state": {
       "_model_module": "@jupyter-widgets/base",
       "_model_module_version": "1.2.0",
       "_model_name": "LayoutModel",
       "_view_count": null,
       "_view_module": "@jupyter-widgets/base",
       "_view_module_version": "1.2.0",
       "_view_name": "LayoutView",
       "align_content": null,
       "align_items": null,
       "align_self": null,
       "border": null,
       "bottom": null,
       "display": null,
       "flex": null,
       "flex_flow": null,
       "grid_area": null,
       "grid_auto_columns": null,
       "grid_auto_flow": null,
       "grid_auto_rows": null,
       "grid_column": null,
       "grid_gap": null,
       "grid_row": null,
       "grid_template_areas": null,
       "grid_template_columns": null,
       "grid_template_rows": null,
       "height": null,
       "justify_content": null,
       "justify_items": null,
       "left": null,
       "margin": null,
       "max_height": null,
       "max_width": null,
       "min_height": null,
       "min_width": null,
       "object_fit": null,
       "object_position": null,
       "order": null,
       "overflow": null,
       "overflow_x": null,
       "overflow_y": null,
       "padding": null,
       "right": null,
       "top": null,
       "visibility": null,
       "width": null
      }
     },
     "36a9f49f568f47adbe8b1e03b8c496b2": {
      "model_module": "@jupyter-widgets/controls",
      "model_module_version": "1.5.0",
      "model_name": "DescriptionStyleModel",
      "state": {
       "_model_module": "@jupyter-widgets/controls",
       "_model_module_version": "1.5.0",
       "_model_name": "DescriptionStyleModel",
       "_view_count": null,
       "_view_module": "@jupyter-widgets/base",
       "_view_module_version": "1.2.0",
       "_view_name": "StyleView",
       "description_width": ""
      }
     },
     "39ae690d5bbd48c0b5946b18cad23b39": {
      "model_module": "@jupyter-widgets/controls",
      "model_module_version": "1.5.0",
      "model_name": "DescriptionStyleModel",
      "state": {
       "_model_module": "@jupyter-widgets/controls",
       "_model_module_version": "1.5.0",
       "_model_name": "DescriptionStyleModel",
       "_view_count": null,
       "_view_module": "@jupyter-widgets/base",
       "_view_module_version": "1.2.0",
       "_view_name": "StyleView",
       "description_width": ""
      }
     },
     "3a261e00b9864a72822c308da49aa70c": {
      "model_module": "@jupyter-widgets/controls",
      "model_module_version": "1.5.0",
      "model_name": "HTMLModel",
      "state": {
       "_dom_classes": [],
       "_model_module": "@jupyter-widgets/controls",
       "_model_module_version": "1.5.0",
       "_model_name": "HTMLModel",
       "_view_count": null,
       "_view_module": "@jupyter-widgets/controls",
       "_view_module_version": "1.5.0",
       "_view_name": "HTMLView",
       "description": "",
       "description_tooltip": null,
       "layout": "IPY_MODEL_243601aade8b42b1afccf64975bd4067",
       "placeholder": "​",
       "style": "IPY_MODEL_39ae690d5bbd48c0b5946b18cad23b39",
       "value": " 159571/159571 [00:46&lt;00:00, 3669.66it/s]"
      }
     },
     "439ba968c10b464fb3fde37a7e7821a0": {
      "model_module": "@jupyter-widgets/controls",
      "model_module_version": "1.5.0",
      "model_name": "HTMLModel",
      "state": {
       "_dom_classes": [],
       "_model_module": "@jupyter-widgets/controls",
       "_model_module_version": "1.5.0",
       "_model_name": "HTMLModel",
       "_view_count": null,
       "_view_module": "@jupyter-widgets/controls",
       "_view_module_version": "1.5.0",
       "_view_name": "HTMLView",
       "description": "",
       "description_tooltip": null,
       "layout": "IPY_MODEL_ad308387221d45c58bcdfaa655b55342",
       "placeholder": "​",
       "style": "IPY_MODEL_180a0626c32944d19f25dc5f57621641",
       "value": "100%"
      }
     },
     "4572a2d5c3f24d6ea0492f8e4f4136ef": {
      "model_module": "@jupyter-widgets/controls",
      "model_module_version": "1.5.0",
      "model_name": "ProgressStyleModel",
      "state": {
       "_model_module": "@jupyter-widgets/controls",
       "_model_module_version": "1.5.0",
       "_model_name": "ProgressStyleModel",
       "_view_count": null,
       "_view_module": "@jupyter-widgets/base",
       "_view_module_version": "1.2.0",
       "_view_name": "StyleView",
       "bar_color": null,
       "description_width": ""
      }
     },
     "5a173dc3ad7c451690f88150d393dd83": {
      "model_module": "@jupyter-widgets/controls",
      "model_module_version": "1.5.0",
      "model_name": "HBoxModel",
      "state": {
       "_dom_classes": [],
       "_model_module": "@jupyter-widgets/controls",
       "_model_module_version": "1.5.0",
       "_model_name": "HBoxModel",
       "_view_count": null,
       "_view_module": "@jupyter-widgets/controls",
       "_view_module_version": "1.5.0",
       "_view_name": "HBoxView",
       "box_style": "",
       "children": [
        "IPY_MODEL_9ea41ef6fa2b49f09e33907254898471",
        "IPY_MODEL_c8ebb905710440faa1aa0f6867ed8117",
        "IPY_MODEL_0e845f02c32146b6a5ef3f9d811573ee"
       ],
       "layout": "IPY_MODEL_9d4d83b0552f472fbf18ef07221687ab"
      }
     },
     "67f6f561d5c4419c9e0f339d8044406f": {
      "model_module": "@jupyter-widgets/controls",
      "model_module_version": "1.5.0",
      "model_name": "DescriptionStyleModel",
      "state": {
       "_model_module": "@jupyter-widgets/controls",
       "_model_module_version": "1.5.0",
       "_model_name": "DescriptionStyleModel",
       "_view_count": null,
       "_view_module": "@jupyter-widgets/base",
       "_view_module_version": "1.2.0",
       "_view_name": "StyleView",
       "description_width": ""
      }
     },
     "72988ddca8a642d0ba339eacf6413bbe": {
      "model_module": "@jupyter-widgets/base",
      "model_module_version": "1.2.0",
      "model_name": "LayoutModel",
      "state": {
       "_model_module": "@jupyter-widgets/base",
       "_model_module_version": "1.2.0",
       "_model_name": "LayoutModel",
       "_view_count": null,
       "_view_module": "@jupyter-widgets/base",
       "_view_module_version": "1.2.0",
       "_view_name": "LayoutView",
       "align_content": null,
       "align_items": null,
       "align_self": null,
       "border": null,
       "bottom": null,
       "display": null,
       "flex": null,
       "flex_flow": null,
       "grid_area": null,
       "grid_auto_columns": null,
       "grid_auto_flow": null,
       "grid_auto_rows": null,
       "grid_column": null,
       "grid_gap": null,
       "grid_row": null,
       "grid_template_areas": null,
       "grid_template_columns": null,
       "grid_template_rows": null,
       "height": null,
       "justify_content": null,
       "justify_items": null,
       "left": null,
       "margin": null,
       "max_height": null,
       "max_width": null,
       "min_height": null,
       "min_width": null,
       "object_fit": null,
       "object_position": null,
       "order": null,
       "overflow": null,
       "overflow_x": null,
       "overflow_y": null,
       "padding": null,
       "right": null,
       "top": null,
       "visibility": null,
       "width": null
      }
     },
     "8e3e0d67ca8d45b584e74113a355d298": {
      "model_module": "@jupyter-widgets/base",
      "model_module_version": "1.2.0",
      "model_name": "LayoutModel",
      "state": {
       "_model_module": "@jupyter-widgets/base",
       "_model_module_version": "1.2.0",
       "_model_name": "LayoutModel",
       "_view_count": null,
       "_view_module": "@jupyter-widgets/base",
       "_view_module_version": "1.2.0",
       "_view_name": "LayoutView",
       "align_content": null,
       "align_items": null,
       "align_self": null,
       "border": null,
       "bottom": null,
       "display": null,
       "flex": null,
       "flex_flow": null,
       "grid_area": null,
       "grid_auto_columns": null,
       "grid_auto_flow": null,
       "grid_auto_rows": null,
       "grid_column": null,
       "grid_gap": null,
       "grid_row": null,
       "grid_template_areas": null,
       "grid_template_columns": null,
       "grid_template_rows": null,
       "height": null,
       "justify_content": null,
       "justify_items": null,
       "left": null,
       "margin": null,
       "max_height": null,
       "max_width": null,
       "min_height": null,
       "min_width": null,
       "object_fit": null,
       "object_position": null,
       "order": null,
       "overflow": null,
       "overflow_x": null,
       "overflow_y": null,
       "padding": null,
       "right": null,
       "top": null,
       "visibility": null,
       "width": null
      }
     },
     "948f1417c2714903abe4be392b7dd751": {
      "model_module": "@jupyter-widgets/controls",
      "model_module_version": "1.5.0",
      "model_name": "FloatProgressModel",
      "state": {
       "_dom_classes": [],
       "_model_module": "@jupyter-widgets/controls",
       "_model_module_version": "1.5.0",
       "_model_name": "FloatProgressModel",
       "_view_count": null,
       "_view_module": "@jupyter-widgets/controls",
       "_view_module_version": "1.5.0",
       "_view_name": "ProgressView",
       "bar_style": "success",
       "description": "",
       "description_tooltip": null,
       "layout": "IPY_MODEL_112d1c9989c44c6690cc75b98880244a",
       "max": 159571.0,
       "min": 0.0,
       "orientation": "horizontal",
       "style": "IPY_MODEL_4572a2d5c3f24d6ea0492f8e4f4136ef",
       "value": 159571.0
      }
     },
     "9d4d83b0552f472fbf18ef07221687ab": {
      "model_module": "@jupyter-widgets/base",
      "model_module_version": "1.2.0",
      "model_name": "LayoutModel",
      "state": {
       "_model_module": "@jupyter-widgets/base",
       "_model_module_version": "1.2.0",
       "_model_name": "LayoutModel",
       "_view_count": null,
       "_view_module": "@jupyter-widgets/base",
       "_view_module_version": "1.2.0",
       "_view_name": "LayoutView",
       "align_content": null,
       "align_items": null,
       "align_self": null,
       "border": null,
       "bottom": null,
       "display": null,
       "flex": null,
       "flex_flow": null,
       "grid_area": null,
       "grid_auto_columns": null,
       "grid_auto_flow": null,
       "grid_auto_rows": null,
       "grid_column": null,
       "grid_gap": null,
       "grid_row": null,
       "grid_template_areas": null,
       "grid_template_columns": null,
       "grid_template_rows": null,
       "height": null,
       "justify_content": null,
       "justify_items": null,
       "left": null,
       "margin": null,
       "max_height": null,
       "max_width": null,
       "min_height": null,
       "min_width": null,
       "object_fit": null,
       "object_position": null,
       "order": null,
       "overflow": null,
       "overflow_x": null,
       "overflow_y": null,
       "padding": null,
       "right": null,
       "top": null,
       "visibility": null,
       "width": null
      }
     },
     "9ea41ef6fa2b49f09e33907254898471": {
      "model_module": "@jupyter-widgets/controls",
      "model_module_version": "1.5.0",
      "model_name": "HTMLModel",
      "state": {
       "_dom_classes": [],
       "_model_module": "@jupyter-widgets/controls",
       "_model_module_version": "1.5.0",
       "_model_name": "HTMLModel",
       "_view_count": null,
       "_view_module": "@jupyter-widgets/controls",
       "_view_module_version": "1.5.0",
       "_view_name": "HTMLView",
       "description": "",
       "description_tooltip": null,
       "layout": "IPY_MODEL_fa2eacd2bf864b58bcb9bef39caa5810",
       "placeholder": "​",
       "style": "IPY_MODEL_36a9f49f568f47adbe8b1e03b8c496b2",
       "value": "100%"
      }
     },
     "a4721147d2f84c6e8546f90aef3a2f49": {
      "model_module": "@jupyter-widgets/controls",
      "model_module_version": "1.5.0",
      "model_name": "ProgressStyleModel",
      "state": {
       "_model_module": "@jupyter-widgets/controls",
       "_model_module_version": "1.5.0",
       "_model_name": "ProgressStyleModel",
       "_view_count": null,
       "_view_module": "@jupyter-widgets/base",
       "_view_module_version": "1.2.0",
       "_view_name": "StyleView",
       "bar_color": null,
       "description_width": ""
      }
     },
     "ad308387221d45c58bcdfaa655b55342": {
      "model_module": "@jupyter-widgets/base",
      "model_module_version": "1.2.0",
      "model_name": "LayoutModel",
      "state": {
       "_model_module": "@jupyter-widgets/base",
       "_model_module_version": "1.2.0",
       "_model_name": "LayoutModel",
       "_view_count": null,
       "_view_module": "@jupyter-widgets/base",
       "_view_module_version": "1.2.0",
       "_view_name": "LayoutView",
       "align_content": null,
       "align_items": null,
       "align_self": null,
       "border": null,
       "bottom": null,
       "display": null,
       "flex": null,
       "flex_flow": null,
       "grid_area": null,
       "grid_auto_columns": null,
       "grid_auto_flow": null,
       "grid_auto_rows": null,
       "grid_column": null,
       "grid_gap": null,
       "grid_row": null,
       "grid_template_areas": null,
       "grid_template_columns": null,
       "grid_template_rows": null,
       "height": null,
       "justify_content": null,
       "justify_items": null,
       "left": null,
       "margin": null,
       "max_height": null,
       "max_width": null,
       "min_height": null,
       "min_width": null,
       "object_fit": null,
       "object_position": null,
       "order": null,
       "overflow": null,
       "overflow_x": null,
       "overflow_y": null,
       "padding": null,
       "right": null,
       "top": null,
       "visibility": null,
       "width": null
      }
     },
     "b82e602a72f64203989faf0aaed61abf": {
      "model_module": "@jupyter-widgets/controls",
      "model_module_version": "1.5.0",
      "model_name": "HBoxModel",
      "state": {
       "_dom_classes": [],
       "_model_module": "@jupyter-widgets/controls",
       "_model_module_version": "1.5.0",
       "_model_name": "HBoxModel",
       "_view_count": null,
       "_view_module": "@jupyter-widgets/controls",
       "_view_module_version": "1.5.0",
       "_view_name": "HBoxView",
       "box_style": "",
       "children": [
        "IPY_MODEL_065f1f1d08c14b489ece3b00a8dc291c",
        "IPY_MODEL_948f1417c2714903abe4be392b7dd751",
        "IPY_MODEL_dc8f81ca5741483b8de44f8d4275e031"
       ],
       "layout": "IPY_MODEL_f4eaf72595ac469e84c26ab0304935bc"
      }
     },
     "bcf7e075f39b4fc799c8d7bccc329162": {
      "model_module": "@jupyter-widgets/base",
      "model_module_version": "1.2.0",
      "model_name": "LayoutModel",
      "state": {
       "_model_module": "@jupyter-widgets/base",
       "_model_module_version": "1.2.0",
       "_model_name": "LayoutModel",
       "_view_count": null,
       "_view_module": "@jupyter-widgets/base",
       "_view_module_version": "1.2.0",
       "_view_name": "LayoutView",
       "align_content": null,
       "align_items": null,
       "align_self": null,
       "border": null,
       "bottom": null,
       "display": null,
       "flex": null,
       "flex_flow": null,
       "grid_area": null,
       "grid_auto_columns": null,
       "grid_auto_flow": null,
       "grid_auto_rows": null,
       "grid_column": null,
       "grid_gap": null,
       "grid_row": null,
       "grid_template_areas": null,
       "grid_template_columns": null,
       "grid_template_rows": null,
       "height": null,
       "justify_content": null,
       "justify_items": null,
       "left": null,
       "margin": null,
       "max_height": null,
       "max_width": null,
       "min_height": null,
       "min_width": null,
       "object_fit": null,
       "object_position": null,
       "order": null,
       "overflow": null,
       "overflow_x": null,
       "overflow_y": null,
       "padding": null,
       "right": null,
       "top": null,
       "visibility": null,
       "width": null
      }
     },
     "c8ebb905710440faa1aa0f6867ed8117": {
      "model_module": "@jupyter-widgets/controls",
      "model_module_version": "1.5.0",
      "model_name": "FloatProgressModel",
      "state": {
       "_dom_classes": [],
       "_model_module": "@jupyter-widgets/controls",
       "_model_module_version": "1.5.0",
       "_model_name": "FloatProgressModel",
       "_view_count": null,
       "_view_module": "@jupyter-widgets/controls",
       "_view_module_version": "1.5.0",
       "_view_name": "ProgressView",
       "bar_style": "success",
       "description": "",
       "description_tooltip": null,
       "layout": "IPY_MODEL_f5eacc891e4d491c9be54d7a134f9278",
       "max": 7537.0,
       "min": 0.0,
       "orientation": "horizontal",
       "style": "IPY_MODEL_e79cbe562ee341c2918cd4493d9d6732",
       "value": 7537.0
      }
     },
     "d69c9ecc30ed4c288c7ea1cd713ca95f": {
      "model_module": "@jupyter-widgets/controls",
      "model_module_version": "1.5.0",
      "model_name": "DescriptionStyleModel",
      "state": {
       "_model_module": "@jupyter-widgets/controls",
       "_model_module_version": "1.5.0",
       "_model_name": "DescriptionStyleModel",
       "_view_count": null,
       "_view_module": "@jupyter-widgets/base",
       "_view_module_version": "1.2.0",
       "_view_name": "StyleView",
       "description_width": ""
      }
     },
     "dc8f81ca5741483b8de44f8d4275e031": {
      "model_module": "@jupyter-widgets/controls",
      "model_module_version": "1.5.0",
      "model_name": "HTMLModel",
      "state": {
       "_dom_classes": [],
       "_model_module": "@jupyter-widgets/controls",
       "_model_module_version": "1.5.0",
       "_model_name": "HTMLModel",
       "_view_count": null,
       "_view_module": "@jupyter-widgets/controls",
       "_view_module_version": "1.5.0",
       "_view_name": "HTMLView",
       "description": "",
       "description_tooltip": null,
       "layout": "IPY_MODEL_8e3e0d67ca8d45b584e74113a355d298",
       "placeholder": "​",
       "style": "IPY_MODEL_0fe13de14a0a496286b228184a9696ac",
       "value": " 159571/159571 [00:46&lt;00:00, 3606.67it/s]"
      }
     },
     "e79cbe562ee341c2918cd4493d9d6732": {
      "model_module": "@jupyter-widgets/controls",
      "model_module_version": "1.5.0",
      "model_name": "ProgressStyleModel",
      "state": {
       "_model_module": "@jupyter-widgets/controls",
       "_model_module_version": "1.5.0",
       "_model_name": "ProgressStyleModel",
       "_view_count": null,
       "_view_module": "@jupyter-widgets/base",
       "_view_module_version": "1.2.0",
       "_view_name": "StyleView",
       "bar_color": null,
       "description_width": ""
      }
     },
     "f4eaf72595ac469e84c26ab0304935bc": {
      "model_module": "@jupyter-widgets/base",
      "model_module_version": "1.2.0",
      "model_name": "LayoutModel",
      "state": {
       "_model_module": "@jupyter-widgets/base",
       "_model_module_version": "1.2.0",
       "_model_name": "LayoutModel",
       "_view_count": null,
       "_view_module": "@jupyter-widgets/base",
       "_view_module_version": "1.2.0",
       "_view_name": "LayoutView",
       "align_content": null,
       "align_items": null,
       "align_self": null,
       "border": null,
       "bottom": null,
       "display": null,
       "flex": null,
       "flex_flow": null,
       "grid_area": null,
       "grid_auto_columns": null,
       "grid_auto_flow": null,
       "grid_auto_rows": null,
       "grid_column": null,
       "grid_gap": null,
       "grid_row": null,
       "grid_template_areas": null,
       "grid_template_columns": null,
       "grid_template_rows": null,
       "height": null,
       "justify_content": null,
       "justify_items": null,
       "left": null,
       "margin": null,
       "max_height": null,
       "max_width": null,
       "min_height": null,
       "min_width": null,
       "object_fit": null,
       "object_position": null,
       "order": null,
       "overflow": null,
       "overflow_x": null,
       "overflow_y": null,
       "padding": null,
       "right": null,
       "top": null,
       "visibility": null,
       "width": null
      }
     },
     "f5eacc891e4d491c9be54d7a134f9278": {
      "model_module": "@jupyter-widgets/base",
      "model_module_version": "1.2.0",
      "model_name": "LayoutModel",
      "state": {
       "_model_module": "@jupyter-widgets/base",
       "_model_module_version": "1.2.0",
       "_model_name": "LayoutModel",
       "_view_count": null,
       "_view_module": "@jupyter-widgets/base",
       "_view_module_version": "1.2.0",
       "_view_name": "LayoutView",
       "align_content": null,
       "align_items": null,
       "align_self": null,
       "border": null,
       "bottom": null,
       "display": null,
       "flex": null,
       "flex_flow": null,
       "grid_area": null,
       "grid_auto_columns": null,
       "grid_auto_flow": null,
       "grid_auto_rows": null,
       "grid_column": null,
       "grid_gap": null,
       "grid_row": null,
       "grid_template_areas": null,
       "grid_template_columns": null,
       "grid_template_rows": null,
       "height": null,
       "justify_content": null,
       "justify_items": null,
       "left": null,
       "margin": null,
       "max_height": null,
       "max_width": null,
       "min_height": null,
       "min_width": null,
       "object_fit": null,
       "object_position": null,
       "order": null,
       "overflow": null,
       "overflow_x": null,
       "overflow_y": null,
       "padding": null,
       "right": null,
       "top": null,
       "visibility": null,
       "width": null
      }
     },
     "fa2eacd2bf864b58bcb9bef39caa5810": {
      "model_module": "@jupyter-widgets/base",
      "model_module_version": "1.2.0",
      "model_name": "LayoutModel",
      "state": {
       "_model_module": "@jupyter-widgets/base",
       "_model_module_version": "1.2.0",
       "_model_name": "LayoutModel",
       "_view_count": null,
       "_view_module": "@jupyter-widgets/base",
       "_view_module_version": "1.2.0",
       "_view_name": "LayoutView",
       "align_content": null,
       "align_items": null,
       "align_self": null,
       "border": null,
       "bottom": null,
       "display": null,
       "flex": null,
       "flex_flow": null,
       "grid_area": null,
       "grid_auto_columns": null,
       "grid_auto_flow": null,
       "grid_auto_rows": null,
       "grid_column": null,
       "grid_gap": null,
       "grid_row": null,
       "grid_template_areas": null,
       "grid_template_columns": null,
       "grid_template_rows": null,
       "height": null,
       "justify_content": null,
       "justify_items": null,
       "left": null,
       "margin": null,
       "max_height": null,
       "max_width": null,
       "min_height": null,
       "min_width": null,
       "object_fit": null,
       "object_position": null,
       "order": null,
       "overflow": null,
       "overflow_x": null,
       "overflow_y": null,
       "padding": null,
       "right": null,
       "top": null,
       "visibility": null,
       "width": null
      }
     }
    },
    "version_major": 2,
    "version_minor": 0
   }
  }
 },
 "nbformat": 4,
 "nbformat_minor": 5
}
